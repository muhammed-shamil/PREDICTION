{
  "nbformat": 4,
  "nbformat_minor": 0,
  "metadata": {
    "colab": {
      "provenance": [],
      "mount_file_id": "1cn5EMcnRN-ImfbjxntMsoSH4JmNfO59T",
      "authorship_tag": "ABX9TyPb2z/mVk8F0gYY1XQnbgia",
      "include_colab_link": true
    },
    "kernelspec": {
      "name": "python3",
      "display_name": "Python 3"
    },
    "language_info": {
      "name": "python"
    }
  },
  "cells": [
    {
      "cell_type": "markdown",
      "metadata": {
        "id": "view-in-github",
        "colab_type": "text"
      },
      "source": [
        "<a href=\"https://colab.research.google.com/github/muhammed-shamil/PREDICTION/blob/main/goldprice.ipynb\" target=\"_parent\"><img src=\"https://colab.research.google.com/assets/colab-badge.svg\" alt=\"Open In Colab\"/></a>"
      ]
    },
    {
      "cell_type": "markdown",
      "source": [
        "Here i am gonna show you a gold price prediction"
      ],
      "metadata": {
        "id": "PJ69Jmtk_m-4"
      }
    },
    {
      "cell_type": "markdown",
      "source": [
        "**Work Flow**\n",
        "*  so first we need the gold price data. it consisting of gold price of several days in a period of 10 years.using this data to train our machine learning alghorithm and it can predict the gold price for that specific value\n",
        "* Data Processing,we need to process the data properly\n",
        "*Data Analysing,find which features are important and which features are correlated with each other\n",
        "* train test split,our orginal data is split in two parts trainig data and testing data. using Train data to train our machine and find how well our model is performing.use our test data to test our machine learning.In this case we use regression model,because it is a regression problem"
      ],
      "metadata": {
        "id": "j1BxVavT5jGE"
      }
    },
    {
      "cell_type": "markdown",
      "source": [
        "Importing Libraries"
      ],
      "metadata": {
        "id": "16mu1a53EQHF"
      }
    },
    {
      "cell_type": "code",
      "execution_count": null,
      "metadata": {
        "id": "C1SAqiJ36Wuy"
      },
      "outputs": [],
      "source": [
        "import pandas as pd\n",
        "import numpy as np\n",
        "import matplotlib.pyplot as plt\n",
        "import seaborn as sns\n",
        "from sklearn.model_selection import train_test_split\n",
        "from sklearn.ensemble import RandomForestRegressor\n",
        "from sklearn import metrics\n",
        "from warnings import filterwarnings\n",
        "filterwarnings('ignore')"
      ]
    },
    {
      "cell_type": "markdown",
      "source": [
        "Data collection and Pocesssing"
      ],
      "metadata": {
        "id": "-7plbcchD4TK"
      }
    },
    {
      "cell_type": "code",
      "source": [
        "# loading the csv data to pandas DataFrame\n",
        "\n",
        "gold_data = pd.read_csv('/content/drive/MyDrive/data science /work/project/gld_price_data.csv')"
      ],
      "metadata": {
        "id": "9j24GmAmB6BC"
      },
      "execution_count": null,
      "outputs": []
    },
    {
      "cell_type": "code",
      "source": [
        "# print the first 5 rows in the dataframe\n",
        "\n",
        "gold_data.head()"
      ],
      "metadata": {
        "colab": {
          "base_uri": "https://localhost:8080/",
          "height": 206
        },
        "id": "4tH-xZJTEkc0",
        "outputId": "f8ace833-75e3-4ffb-a2ab-88c173e05af3"
      },
      "execution_count": null,
      "outputs": [
        {
          "output_type": "execute_result",
          "data": {
            "text/plain": [
              "       Date          SPX        GLD        USO     SLV   EUR/USD\n",
              "0  1/2/2008  1447.160034  84.860001  78.470001  15.180  1.471692\n",
              "1  1/3/2008  1447.160034  85.570000  78.370003  15.285  1.474491\n",
              "2  1/4/2008  1411.630005  85.129997  77.309998  15.167  1.475492\n",
              "3  1/7/2008  1416.180054  84.769997  75.500000  15.053  1.468299\n",
              "4  1/8/2008  1390.189941  86.779999  76.059998  15.590  1.557099"
            ],
            "text/html": [
              "\n",
              "  <div id=\"df-77bfde28-353a-46cc-93ce-739de6f80137\">\n",
              "    <div class=\"colab-df-container\">\n",
              "      <div>\n",
              "<style scoped>\n",
              "    .dataframe tbody tr th:only-of-type {\n",
              "        vertical-align: middle;\n",
              "    }\n",
              "\n",
              "    .dataframe tbody tr th {\n",
              "        vertical-align: top;\n",
              "    }\n",
              "\n",
              "    .dataframe thead th {\n",
              "        text-align: right;\n",
              "    }\n",
              "</style>\n",
              "<table border=\"1\" class=\"dataframe\">\n",
              "  <thead>\n",
              "    <tr style=\"text-align: right;\">\n",
              "      <th></th>\n",
              "      <th>Date</th>\n",
              "      <th>SPX</th>\n",
              "      <th>GLD</th>\n",
              "      <th>USO</th>\n",
              "      <th>SLV</th>\n",
              "      <th>EUR/USD</th>\n",
              "    </tr>\n",
              "  </thead>\n",
              "  <tbody>\n",
              "    <tr>\n",
              "      <th>0</th>\n",
              "      <td>1/2/2008</td>\n",
              "      <td>1447.160034</td>\n",
              "      <td>84.860001</td>\n",
              "      <td>78.470001</td>\n",
              "      <td>15.180</td>\n",
              "      <td>1.471692</td>\n",
              "    </tr>\n",
              "    <tr>\n",
              "      <th>1</th>\n",
              "      <td>1/3/2008</td>\n",
              "      <td>1447.160034</td>\n",
              "      <td>85.570000</td>\n",
              "      <td>78.370003</td>\n",
              "      <td>15.285</td>\n",
              "      <td>1.474491</td>\n",
              "    </tr>\n",
              "    <tr>\n",
              "      <th>2</th>\n",
              "      <td>1/4/2008</td>\n",
              "      <td>1411.630005</td>\n",
              "      <td>85.129997</td>\n",
              "      <td>77.309998</td>\n",
              "      <td>15.167</td>\n",
              "      <td>1.475492</td>\n",
              "    </tr>\n",
              "    <tr>\n",
              "      <th>3</th>\n",
              "      <td>1/7/2008</td>\n",
              "      <td>1416.180054</td>\n",
              "      <td>84.769997</td>\n",
              "      <td>75.500000</td>\n",
              "      <td>15.053</td>\n",
              "      <td>1.468299</td>\n",
              "    </tr>\n",
              "    <tr>\n",
              "      <th>4</th>\n",
              "      <td>1/8/2008</td>\n",
              "      <td>1390.189941</td>\n",
              "      <td>86.779999</td>\n",
              "      <td>76.059998</td>\n",
              "      <td>15.590</td>\n",
              "      <td>1.557099</td>\n",
              "    </tr>\n",
              "  </tbody>\n",
              "</table>\n",
              "</div>\n",
              "      <button class=\"colab-df-convert\" onclick=\"convertToInteractive('df-77bfde28-353a-46cc-93ce-739de6f80137')\"\n",
              "              title=\"Convert this dataframe to an interactive table.\"\n",
              "              style=\"display:none;\">\n",
              "        \n",
              "  <svg xmlns=\"http://www.w3.org/2000/svg\" height=\"24px\"viewBox=\"0 0 24 24\"\n",
              "       width=\"24px\">\n",
              "    <path d=\"M0 0h24v24H0V0z\" fill=\"none\"/>\n",
              "    <path d=\"M18.56 5.44l.94 2.06.94-2.06 2.06-.94-2.06-.94-.94-2.06-.94 2.06-2.06.94zm-11 1L8.5 8.5l.94-2.06 2.06-.94-2.06-.94L8.5 2.5l-.94 2.06-2.06.94zm10 10l.94 2.06.94-2.06 2.06-.94-2.06-.94-.94-2.06-.94 2.06-2.06.94z\"/><path d=\"M17.41 7.96l-1.37-1.37c-.4-.4-.92-.59-1.43-.59-.52 0-1.04.2-1.43.59L10.3 9.45l-7.72 7.72c-.78.78-.78 2.05 0 2.83L4 21.41c.39.39.9.59 1.41.59.51 0 1.02-.2 1.41-.59l7.78-7.78 2.81-2.81c.8-.78.8-2.07 0-2.86zM5.41 20L4 18.59l7.72-7.72 1.47 1.35L5.41 20z\"/>\n",
              "  </svg>\n",
              "      </button>\n",
              "      \n",
              "  <style>\n",
              "    .colab-df-container {\n",
              "      display:flex;\n",
              "      flex-wrap:wrap;\n",
              "      gap: 12px;\n",
              "    }\n",
              "\n",
              "    .colab-df-convert {\n",
              "      background-color: #E8F0FE;\n",
              "      border: none;\n",
              "      border-radius: 50%;\n",
              "      cursor: pointer;\n",
              "      display: none;\n",
              "      fill: #1967D2;\n",
              "      height: 32px;\n",
              "      padding: 0 0 0 0;\n",
              "      width: 32px;\n",
              "    }\n",
              "\n",
              "    .colab-df-convert:hover {\n",
              "      background-color: #E2EBFA;\n",
              "      box-shadow: 0px 1px 2px rgba(60, 64, 67, 0.3), 0px 1px 3px 1px rgba(60, 64, 67, 0.15);\n",
              "      fill: #174EA6;\n",
              "    }\n",
              "\n",
              "    [theme=dark] .colab-df-convert {\n",
              "      background-color: #3B4455;\n",
              "      fill: #D2E3FC;\n",
              "    }\n",
              "\n",
              "    [theme=dark] .colab-df-convert:hover {\n",
              "      background-color: #434B5C;\n",
              "      box-shadow: 0px 1px 3px 1px rgba(0, 0, 0, 0.15);\n",
              "      filter: drop-shadow(0px 1px 2px rgba(0, 0, 0, 0.3));\n",
              "      fill: #FFFFFF;\n",
              "    }\n",
              "  </style>\n",
              "\n",
              "      <script>\n",
              "        const buttonEl =\n",
              "          document.querySelector('#df-77bfde28-353a-46cc-93ce-739de6f80137 button.colab-df-convert');\n",
              "        buttonEl.style.display =\n",
              "          google.colab.kernel.accessAllowed ? 'block' : 'none';\n",
              "\n",
              "        async function convertToInteractive(key) {\n",
              "          const element = document.querySelector('#df-77bfde28-353a-46cc-93ce-739de6f80137');\n",
              "          const dataTable =\n",
              "            await google.colab.kernel.invokeFunction('convertToInteractive',\n",
              "                                                     [key], {});\n",
              "          if (!dataTable) return;\n",
              "\n",
              "          const docLinkHtml = 'Like what you see? Visit the ' +\n",
              "            '<a target=\"_blank\" href=https://colab.research.google.com/notebooks/data_table.ipynb>data table notebook</a>'\n",
              "            + ' to learn more about interactive tables.';\n",
              "          element.innerHTML = '';\n",
              "          dataTable['output_type'] = 'display_data';\n",
              "          await google.colab.output.renderOutput(dataTable, element);\n",
              "          const docLink = document.createElement('div');\n",
              "          docLink.innerHTML = docLinkHtml;\n",
              "          element.appendChild(docLink);\n",
              "        }\n",
              "      </script>\n",
              "    </div>\n",
              "  </div>\n",
              "  "
            ]
          },
          "metadata": {},
          "execution_count": 245
        }
      ]
    },
    {
      "cell_type": "markdown",
      "source": [
        "In here in this data set we can see,\n",
        "* Date - day,month and year are shown here\n",
        "* SPX - smp index so it is the capitalization index.it is the one of the stocks\n",
        "* GLD - gold price\n",
        "* USO - united states oil price\n",
        "* SLV - silver price\n",
        "* EUR/USD - its a pair of Euro and Dollar.in this case one Euro is equal to 1.47 usd"
      ],
      "metadata": {
        "id": "mjXXr1eICAwi"
      }
    },
    {
      "cell_type": "code",
      "source": [
        "# print last five rows of the dataframe\n",
        "\n",
        "gold_data.tail()"
      ],
      "metadata": {
        "colab": {
          "base_uri": "https://localhost:8080/",
          "height": 206
        },
        "id": "gVLwOlhxE2V8",
        "outputId": "21217b27-fd88-4aff-89de-12cf3d2670d5"
      },
      "execution_count": null,
      "outputs": [
        {
          "output_type": "execute_result",
          "data": {
            "text/plain": [
              "           Date          SPX         GLD      USO      SLV   EUR/USD\n",
              "2285   5/8/2018  2671.919922  124.589996  14.0600  15.5100  1.186789\n",
              "2286   5/9/2018  2697.790039  124.330002  14.3700  15.5300  1.184722\n",
              "2287  5/10/2018  2723.070068  125.180000  14.4100  15.7400  1.191753\n",
              "2288  5/14/2018  2730.129883  124.489998  14.3800  15.5600  1.193118\n",
              "2289  5/16/2018  2725.780029  122.543800  14.4058  15.4542  1.182033"
            ],
            "text/html": [
              "\n",
              "  <div id=\"df-f3c9f668-0921-42a4-92f8-6e1dc3f2c8d4\">\n",
              "    <div class=\"colab-df-container\">\n",
              "      <div>\n",
              "<style scoped>\n",
              "    .dataframe tbody tr th:only-of-type {\n",
              "        vertical-align: middle;\n",
              "    }\n",
              "\n",
              "    .dataframe tbody tr th {\n",
              "        vertical-align: top;\n",
              "    }\n",
              "\n",
              "    .dataframe thead th {\n",
              "        text-align: right;\n",
              "    }\n",
              "</style>\n",
              "<table border=\"1\" class=\"dataframe\">\n",
              "  <thead>\n",
              "    <tr style=\"text-align: right;\">\n",
              "      <th></th>\n",
              "      <th>Date</th>\n",
              "      <th>SPX</th>\n",
              "      <th>GLD</th>\n",
              "      <th>USO</th>\n",
              "      <th>SLV</th>\n",
              "      <th>EUR/USD</th>\n",
              "    </tr>\n",
              "  </thead>\n",
              "  <tbody>\n",
              "    <tr>\n",
              "      <th>2285</th>\n",
              "      <td>5/8/2018</td>\n",
              "      <td>2671.919922</td>\n",
              "      <td>124.589996</td>\n",
              "      <td>14.0600</td>\n",
              "      <td>15.5100</td>\n",
              "      <td>1.186789</td>\n",
              "    </tr>\n",
              "    <tr>\n",
              "      <th>2286</th>\n",
              "      <td>5/9/2018</td>\n",
              "      <td>2697.790039</td>\n",
              "      <td>124.330002</td>\n",
              "      <td>14.3700</td>\n",
              "      <td>15.5300</td>\n",
              "      <td>1.184722</td>\n",
              "    </tr>\n",
              "    <tr>\n",
              "      <th>2287</th>\n",
              "      <td>5/10/2018</td>\n",
              "      <td>2723.070068</td>\n",
              "      <td>125.180000</td>\n",
              "      <td>14.4100</td>\n",
              "      <td>15.7400</td>\n",
              "      <td>1.191753</td>\n",
              "    </tr>\n",
              "    <tr>\n",
              "      <th>2288</th>\n",
              "      <td>5/14/2018</td>\n",
              "      <td>2730.129883</td>\n",
              "      <td>124.489998</td>\n",
              "      <td>14.3800</td>\n",
              "      <td>15.5600</td>\n",
              "      <td>1.193118</td>\n",
              "    </tr>\n",
              "    <tr>\n",
              "      <th>2289</th>\n",
              "      <td>5/16/2018</td>\n",
              "      <td>2725.780029</td>\n",
              "      <td>122.543800</td>\n",
              "      <td>14.4058</td>\n",
              "      <td>15.4542</td>\n",
              "      <td>1.182033</td>\n",
              "    </tr>\n",
              "  </tbody>\n",
              "</table>\n",
              "</div>\n",
              "      <button class=\"colab-df-convert\" onclick=\"convertToInteractive('df-f3c9f668-0921-42a4-92f8-6e1dc3f2c8d4')\"\n",
              "              title=\"Convert this dataframe to an interactive table.\"\n",
              "              style=\"display:none;\">\n",
              "        \n",
              "  <svg xmlns=\"http://www.w3.org/2000/svg\" height=\"24px\"viewBox=\"0 0 24 24\"\n",
              "       width=\"24px\">\n",
              "    <path d=\"M0 0h24v24H0V0z\" fill=\"none\"/>\n",
              "    <path d=\"M18.56 5.44l.94 2.06.94-2.06 2.06-.94-2.06-.94-.94-2.06-.94 2.06-2.06.94zm-11 1L8.5 8.5l.94-2.06 2.06-.94-2.06-.94L8.5 2.5l-.94 2.06-2.06.94zm10 10l.94 2.06.94-2.06 2.06-.94-2.06-.94-.94-2.06-.94 2.06-2.06.94z\"/><path d=\"M17.41 7.96l-1.37-1.37c-.4-.4-.92-.59-1.43-.59-.52 0-1.04.2-1.43.59L10.3 9.45l-7.72 7.72c-.78.78-.78 2.05 0 2.83L4 21.41c.39.39.9.59 1.41.59.51 0 1.02-.2 1.41-.59l7.78-7.78 2.81-2.81c.8-.78.8-2.07 0-2.86zM5.41 20L4 18.59l7.72-7.72 1.47 1.35L5.41 20z\"/>\n",
              "  </svg>\n",
              "      </button>\n",
              "      \n",
              "  <style>\n",
              "    .colab-df-container {\n",
              "      display:flex;\n",
              "      flex-wrap:wrap;\n",
              "      gap: 12px;\n",
              "    }\n",
              "\n",
              "    .colab-df-convert {\n",
              "      background-color: #E8F0FE;\n",
              "      border: none;\n",
              "      border-radius: 50%;\n",
              "      cursor: pointer;\n",
              "      display: none;\n",
              "      fill: #1967D2;\n",
              "      height: 32px;\n",
              "      padding: 0 0 0 0;\n",
              "      width: 32px;\n",
              "    }\n",
              "\n",
              "    .colab-df-convert:hover {\n",
              "      background-color: #E2EBFA;\n",
              "      box-shadow: 0px 1px 2px rgba(60, 64, 67, 0.3), 0px 1px 3px 1px rgba(60, 64, 67, 0.15);\n",
              "      fill: #174EA6;\n",
              "    }\n",
              "\n",
              "    [theme=dark] .colab-df-convert {\n",
              "      background-color: #3B4455;\n",
              "      fill: #D2E3FC;\n",
              "    }\n",
              "\n",
              "    [theme=dark] .colab-df-convert:hover {\n",
              "      background-color: #434B5C;\n",
              "      box-shadow: 0px 1px 3px 1px rgba(0, 0, 0, 0.15);\n",
              "      filter: drop-shadow(0px 1px 2px rgba(0, 0, 0, 0.3));\n",
              "      fill: #FFFFFF;\n",
              "    }\n",
              "  </style>\n",
              "\n",
              "      <script>\n",
              "        const buttonEl =\n",
              "          document.querySelector('#df-f3c9f668-0921-42a4-92f8-6e1dc3f2c8d4 button.colab-df-convert');\n",
              "        buttonEl.style.display =\n",
              "          google.colab.kernel.accessAllowed ? 'block' : 'none';\n",
              "\n",
              "        async function convertToInteractive(key) {\n",
              "          const element = document.querySelector('#df-f3c9f668-0921-42a4-92f8-6e1dc3f2c8d4');\n",
              "          const dataTable =\n",
              "            await google.colab.kernel.invokeFunction('convertToInteractive',\n",
              "                                                     [key], {});\n",
              "          if (!dataTable) return;\n",
              "\n",
              "          const docLinkHtml = 'Like what you see? Visit the ' +\n",
              "            '<a target=\"_blank\" href=https://colab.research.google.com/notebooks/data_table.ipynb>data table notebook</a>'\n",
              "            + ' to learn more about interactive tables.';\n",
              "          element.innerHTML = '';\n",
              "          dataTable['output_type'] = 'display_data';\n",
              "          await google.colab.output.renderOutput(dataTable, element);\n",
              "          const docLink = document.createElement('div');\n",
              "          docLink.innerHTML = docLinkHtml;\n",
              "          element.appendChild(docLink);\n",
              "        }\n",
              "      </script>\n",
              "    </div>\n",
              "  </div>\n",
              "  "
            ]
          },
          "metadata": {},
          "execution_count": 246
        }
      ]
    },
    {
      "cell_type": "code",
      "source": [
        "#no of rows and columns\n",
        "\n",
        "gold_data.shape"
      ],
      "metadata": {
        "colab": {
          "base_uri": "https://localhost:8080/"
        },
        "id": "zAJfk_duFo6Y",
        "outputId": "662b9872-3f84-41e0-c19e-906082bc5e21"
      },
      "execution_count": null,
      "outputs": [
        {
          "output_type": "execute_result",
          "data": {
            "text/plain": [
              "(2290, 6)"
            ]
          },
          "metadata": {},
          "execution_count": 247
        }
      ]
    },
    {
      "cell_type": "code",
      "source": [
        "# getting some basic information about the data\n",
        "\n",
        "gold_data.info()"
      ],
      "metadata": {
        "colab": {
          "base_uri": "https://localhost:8080/"
        },
        "id": "jKSkml4jFvRH",
        "outputId": "a0aa3dc8-dd7c-44a1-aed9-6be36908dc53"
      },
      "execution_count": null,
      "outputs": [
        {
          "output_type": "stream",
          "name": "stdout",
          "text": [
            "<class 'pandas.core.frame.DataFrame'>\n",
            "RangeIndex: 2290 entries, 0 to 2289\n",
            "Data columns (total 6 columns):\n",
            " #   Column   Non-Null Count  Dtype  \n",
            "---  ------   --------------  -----  \n",
            " 0   Date     2290 non-null   object \n",
            " 1   SPX      2290 non-null   float64\n",
            " 2   GLD      2290 non-null   float64\n",
            " 3   USO      2290 non-null   float64\n",
            " 4   SLV      2290 non-null   float64\n",
            " 5   EUR/USD  2290 non-null   float64\n",
            "dtypes: float64(5), object(1)\n",
            "memory usage: 107.5+ KB\n"
          ]
        }
      ]
    },
    {
      "cell_type": "code",
      "source": [
        "#checking the no of missing value\n",
        "\n",
        "gold_data.isnull().sum()"
      ],
      "metadata": {
        "colab": {
          "base_uri": "https://localhost:8080/"
        },
        "id": "8b8Yfa-jF9PN",
        "outputId": "76e422ed-53b8-4aa8-c3c8-f5ce847b906e"
      },
      "execution_count": null,
      "outputs": [
        {
          "output_type": "execute_result",
          "data": {
            "text/plain": [
              "Date       0\n",
              "SPX        0\n",
              "GLD        0\n",
              "USO        0\n",
              "SLV        0\n",
              "EUR/USD    0\n",
              "dtype: int64"
            ]
          },
          "metadata": {},
          "execution_count": 249
        }
      ]
    },
    {
      "cell_type": "code",
      "source": [
        "# getting the statistical measures of the data\n",
        "\n",
        "gold_data.describe()"
      ],
      "metadata": {
        "colab": {
          "base_uri": "https://localhost:8080/",
          "height": 300
        },
        "id": "Sa1LVcHmGabF",
        "outputId": "4999545b-40a1-43e3-dca6-6f9a413a66f4"
      },
      "execution_count": null,
      "outputs": [
        {
          "output_type": "execute_result",
          "data": {
            "text/plain": [
              "               SPX          GLD          USO          SLV      EUR/USD\n",
              "count  2290.000000  2290.000000  2290.000000  2290.000000  2290.000000\n",
              "mean   1654.315776   122.732875    31.842221    20.084997     1.283653\n",
              "std     519.111540    23.283346    19.523517     7.092566     0.131547\n",
              "min     676.530029    70.000000     7.960000     8.850000     1.039047\n",
              "25%    1239.874969   109.725000    14.380000    15.570000     1.171313\n",
              "50%    1551.434998   120.580002    33.869999    17.268500     1.303297\n",
              "75%    2073.010070   132.840004    37.827501    22.882500     1.369971\n",
              "max    2872.870117   184.589996   117.480003    47.259998     1.598798"
            ],
            "text/html": [
              "\n",
              "  <div id=\"df-e2de6068-f703-496b-82e2-e18d66c6a60f\">\n",
              "    <div class=\"colab-df-container\">\n",
              "      <div>\n",
              "<style scoped>\n",
              "    .dataframe tbody tr th:only-of-type {\n",
              "        vertical-align: middle;\n",
              "    }\n",
              "\n",
              "    .dataframe tbody tr th {\n",
              "        vertical-align: top;\n",
              "    }\n",
              "\n",
              "    .dataframe thead th {\n",
              "        text-align: right;\n",
              "    }\n",
              "</style>\n",
              "<table border=\"1\" class=\"dataframe\">\n",
              "  <thead>\n",
              "    <tr style=\"text-align: right;\">\n",
              "      <th></th>\n",
              "      <th>SPX</th>\n",
              "      <th>GLD</th>\n",
              "      <th>USO</th>\n",
              "      <th>SLV</th>\n",
              "      <th>EUR/USD</th>\n",
              "    </tr>\n",
              "  </thead>\n",
              "  <tbody>\n",
              "    <tr>\n",
              "      <th>count</th>\n",
              "      <td>2290.000000</td>\n",
              "      <td>2290.000000</td>\n",
              "      <td>2290.000000</td>\n",
              "      <td>2290.000000</td>\n",
              "      <td>2290.000000</td>\n",
              "    </tr>\n",
              "    <tr>\n",
              "      <th>mean</th>\n",
              "      <td>1654.315776</td>\n",
              "      <td>122.732875</td>\n",
              "      <td>31.842221</td>\n",
              "      <td>20.084997</td>\n",
              "      <td>1.283653</td>\n",
              "    </tr>\n",
              "    <tr>\n",
              "      <th>std</th>\n",
              "      <td>519.111540</td>\n",
              "      <td>23.283346</td>\n",
              "      <td>19.523517</td>\n",
              "      <td>7.092566</td>\n",
              "      <td>0.131547</td>\n",
              "    </tr>\n",
              "    <tr>\n",
              "      <th>min</th>\n",
              "      <td>676.530029</td>\n",
              "      <td>70.000000</td>\n",
              "      <td>7.960000</td>\n",
              "      <td>8.850000</td>\n",
              "      <td>1.039047</td>\n",
              "    </tr>\n",
              "    <tr>\n",
              "      <th>25%</th>\n",
              "      <td>1239.874969</td>\n",
              "      <td>109.725000</td>\n",
              "      <td>14.380000</td>\n",
              "      <td>15.570000</td>\n",
              "      <td>1.171313</td>\n",
              "    </tr>\n",
              "    <tr>\n",
              "      <th>50%</th>\n",
              "      <td>1551.434998</td>\n",
              "      <td>120.580002</td>\n",
              "      <td>33.869999</td>\n",
              "      <td>17.268500</td>\n",
              "      <td>1.303297</td>\n",
              "    </tr>\n",
              "    <tr>\n",
              "      <th>75%</th>\n",
              "      <td>2073.010070</td>\n",
              "      <td>132.840004</td>\n",
              "      <td>37.827501</td>\n",
              "      <td>22.882500</td>\n",
              "      <td>1.369971</td>\n",
              "    </tr>\n",
              "    <tr>\n",
              "      <th>max</th>\n",
              "      <td>2872.870117</td>\n",
              "      <td>184.589996</td>\n",
              "      <td>117.480003</td>\n",
              "      <td>47.259998</td>\n",
              "      <td>1.598798</td>\n",
              "    </tr>\n",
              "  </tbody>\n",
              "</table>\n",
              "</div>\n",
              "      <button class=\"colab-df-convert\" onclick=\"convertToInteractive('df-e2de6068-f703-496b-82e2-e18d66c6a60f')\"\n",
              "              title=\"Convert this dataframe to an interactive table.\"\n",
              "              style=\"display:none;\">\n",
              "        \n",
              "  <svg xmlns=\"http://www.w3.org/2000/svg\" height=\"24px\"viewBox=\"0 0 24 24\"\n",
              "       width=\"24px\">\n",
              "    <path d=\"M0 0h24v24H0V0z\" fill=\"none\"/>\n",
              "    <path d=\"M18.56 5.44l.94 2.06.94-2.06 2.06-.94-2.06-.94-.94-2.06-.94 2.06-2.06.94zm-11 1L8.5 8.5l.94-2.06 2.06-.94-2.06-.94L8.5 2.5l-.94 2.06-2.06.94zm10 10l.94 2.06.94-2.06 2.06-.94-2.06-.94-.94-2.06-.94 2.06-2.06.94z\"/><path d=\"M17.41 7.96l-1.37-1.37c-.4-.4-.92-.59-1.43-.59-.52 0-1.04.2-1.43.59L10.3 9.45l-7.72 7.72c-.78.78-.78 2.05 0 2.83L4 21.41c.39.39.9.59 1.41.59.51 0 1.02-.2 1.41-.59l7.78-7.78 2.81-2.81c.8-.78.8-2.07 0-2.86zM5.41 20L4 18.59l7.72-7.72 1.47 1.35L5.41 20z\"/>\n",
              "  </svg>\n",
              "      </button>\n",
              "      \n",
              "  <style>\n",
              "    .colab-df-container {\n",
              "      display:flex;\n",
              "      flex-wrap:wrap;\n",
              "      gap: 12px;\n",
              "    }\n",
              "\n",
              "    .colab-df-convert {\n",
              "      background-color: #E8F0FE;\n",
              "      border: none;\n",
              "      border-radius: 50%;\n",
              "      cursor: pointer;\n",
              "      display: none;\n",
              "      fill: #1967D2;\n",
              "      height: 32px;\n",
              "      padding: 0 0 0 0;\n",
              "      width: 32px;\n",
              "    }\n",
              "\n",
              "    .colab-df-convert:hover {\n",
              "      background-color: #E2EBFA;\n",
              "      box-shadow: 0px 1px 2px rgba(60, 64, 67, 0.3), 0px 1px 3px 1px rgba(60, 64, 67, 0.15);\n",
              "      fill: #174EA6;\n",
              "    }\n",
              "\n",
              "    [theme=dark] .colab-df-convert {\n",
              "      background-color: #3B4455;\n",
              "      fill: #D2E3FC;\n",
              "    }\n",
              "\n",
              "    [theme=dark] .colab-df-convert:hover {\n",
              "      background-color: #434B5C;\n",
              "      box-shadow: 0px 1px 3px 1px rgba(0, 0, 0, 0.15);\n",
              "      filter: drop-shadow(0px 1px 2px rgba(0, 0, 0, 0.3));\n",
              "      fill: #FFFFFF;\n",
              "    }\n",
              "  </style>\n",
              "\n",
              "      <script>\n",
              "        const buttonEl =\n",
              "          document.querySelector('#df-e2de6068-f703-496b-82e2-e18d66c6a60f button.colab-df-convert');\n",
              "        buttonEl.style.display =\n",
              "          google.colab.kernel.accessAllowed ? 'block' : 'none';\n",
              "\n",
              "        async function convertToInteractive(key) {\n",
              "          const element = document.querySelector('#df-e2de6068-f703-496b-82e2-e18d66c6a60f');\n",
              "          const dataTable =\n",
              "            await google.colab.kernel.invokeFunction('convertToInteractive',\n",
              "                                                     [key], {});\n",
              "          if (!dataTable) return;\n",
              "\n",
              "          const docLinkHtml = 'Like what you see? Visit the ' +\n",
              "            '<a target=\"_blank\" href=https://colab.research.google.com/notebooks/data_table.ipynb>data table notebook</a>'\n",
              "            + ' to learn more about interactive tables.';\n",
              "          element.innerHTML = '';\n",
              "          dataTable['output_type'] = 'display_data';\n",
              "          await google.colab.output.renderOutput(dataTable, element);\n",
              "          const docLink = document.createElement('div');\n",
              "          docLink.innerHTML = docLinkHtml;\n",
              "          element.appendChild(docLink);\n",
              "        }\n",
              "      </script>\n",
              "    </div>\n",
              "  </div>\n",
              "  "
            ]
          },
          "metadata": {},
          "execution_count": 250
        }
      ]
    },
    {
      "cell_type": "markdown",
      "source": [
        "Correlation:\n",
        "1. Positive Correlation\n",
        "*  \n",
        "A positive correlation exists when two variables move in the same direction as one another. A basic example of positive correlation is height and weight—taller people tend to be heavier, and vice versa.\n",
        "2. Negative Correlation\n",
        "*  Negative correlation is a relationship between two variables in which one variable increases as the other decreases, and vice versa"
      ],
      "metadata": {
        "id": "xLjKNcQwHA5B"
      }
    },
    {
      "cell_type": "code",
      "source": [
        "correlation = gold_data.corr()"
      ],
      "metadata": {
        "id": "TEMaXYdxGyVs"
      },
      "execution_count": null,
      "outputs": []
    },
    {
      "cell_type": "code",
      "source": [
        "# constructing a heatmap to understan the correlation\n",
        "\n",
        "plt.figure(figsize = (8,8))\n",
        "sns.heatmap(correlation, cbar=True, square=True, fmt='.1f', annot=True, annot_kws={'size':8}, cmap= 'Blues')"
      ],
      "metadata": {
        "colab": {
          "base_uri": "https://localhost:8080/",
          "height": 675
        },
        "id": "xuI30oVqJqP6",
        "outputId": "98de1ee9-eccd-40a7-fe58-db3cf3643bbb"
      },
      "execution_count": null,
      "outputs": [
        {
          "output_type": "execute_result",
          "data": {
            "text/plain": [
              "<Axes: >"
            ]
          },
          "metadata": {},
          "execution_count": 252
        },
        {
          "output_type": "display_data",
          "data": {
            "text/plain": [
              "<Figure size 800x800 with 2 Axes>"
            ],
            "image/png": "[encoded data removed]"
          },
          "metadata": {}
        }
      ]
    },
    {
      "cell_type": "markdown",
      "source": [
        "In this case values lie between -0.6 and 0.1\n",
        "* this gold and silver column has a value of 0.9 that means they are positively correlated so that means gold price increases and silver price also increses vise versa\n",
        "* spx value and usb value which has a -0.6 as their value value that means usb value decreases the spx value will increase"
      ],
      "metadata": {
        "id": "0-MsEG0YAPSm"
      }
    },
    {
      "cell_type": "code",
      "source": [
        "# correlation value of gold\n",
        "\n",
        "print(correlation['GLD'])"
      ],
      "metadata": {
        "colab": {
          "base_uri": "https://localhost:8080/"
        },
        "id": "jedVS9bnKEe4",
        "outputId": "5cba1948-6d3d-4ad9-f36d-fc8b85c5c77f"
      },
      "execution_count": null,
      "outputs": [
        {
          "output_type": "stream",
          "name": "stdout",
          "text": [
            "SPX        0.049345\n",
            "GLD        1.000000\n",
            "USO       -0.186360\n",
            "SLV        0.866632\n",
            "EUR/USD   -0.024375\n",
            "Name: GLD, dtype: float64\n"
          ]
        }
      ]
    },
    {
      "cell_type": "markdown",
      "source": [
        "* USO is negatively correlated\n",
        "* EUR/USD is slightly negetively correlated\n",
        "* Others are positively correlated"
      ],
      "metadata": {
        "id": "J7OIpJDaIjUF"
      }
    },
    {
      "cell_type": "code",
      "source": [
        "# checking the distribution of the gold price\n",
        "\n",
        "sns.distplot(gold_data['GLD'],color='green')"
      ],
      "metadata": {
        "colab": {
          "base_uri": "https://localhost:8080/",
          "height": 471
        },
        "id": "mRX6rCOKVTYK",
        "outputId": "e1d9ea4a-4157-4a1f-ea8f-5707121efc12"
      },
      "execution_count": null,
      "outputs": [
        {
          "output_type": "execute_result",
          "data": {
            "text/plain": [
              "<Axes: xlabel='GLD', ylabel='Density'>"
            ]
          },
          "metadata": {},
          "execution_count": 254
        },
        {
          "output_type": "display_data",
          "data": {
            "text/plain": [
              "<Figure size 640x480 with 1 Axes>"
            ],
            "image/png": "[encoded data removed]"
          },
          "metadata": {}
        }
      ]
    },
    {
      "cell_type": "markdown",
      "source": [
        "**The most values lie in the range of 120,most of the price value lies in 120 range. we also have price in 180 but they are very less**"
      ],
      "metadata": {
        "id": "noStWzsMHaPm"
      }
    },
    {
      "cell_type": "markdown",
      "source": [
        "Splitting the Features and the Target"
      ],
      "metadata": {
        "id": "DPovBv_tXnO5"
      }
    },
    {
      "cell_type": "code",
      "source": [
        "x = gold_data.drop(['Date','GLD'],axis=1)\n",
        "y = gold_data['GLD']"
      ],
      "metadata": {
        "id": "KKKFj4ByV5ao"
      },
      "execution_count": null,
      "outputs": []
    },
    {
      "cell_type": "code",
      "source": [
        "print(x)"
      ],
      "metadata": {
        "colab": {
          "base_uri": "https://localhost:8080/"
        },
        "id": "erx7gxqWYFiw",
        "outputId": "a40fbf5b-53ff-47d1-d9f7-ff0b957a348c"
      },
      "execution_count": null,
      "outputs": [
        {
          "output_type": "stream",
          "name": "stdout",
          "text": [
            "              SPX        USO      SLV   EUR/USD\n",
            "0     1447.160034  78.470001  15.1800  1.471692\n",
            "1     1447.160034  78.370003  15.2850  1.474491\n",
            "2     1411.630005  77.309998  15.1670  1.475492\n",
            "3     1416.180054  75.500000  15.0530  1.468299\n",
            "4     1390.189941  76.059998  15.5900  1.557099\n",
            "...           ...        ...      ...       ...\n",
            "2285  2671.919922  14.060000  15.5100  1.186789\n",
            "2286  2697.790039  14.370000  15.5300  1.184722\n",
            "2287  2723.070068  14.410000  15.7400  1.191753\n",
            "2288  2730.129883  14.380000  15.5600  1.193118\n",
            "2289  2725.780029  14.405800  15.4542  1.182033\n",
            "\n",
            "[2290 rows x 4 columns]\n"
          ]
        }
      ]
    },
    {
      "cell_type": "code",
      "source": [
        "print(y)"
      ],
      "metadata": {
        "colab": {
          "base_uri": "https://localhost:8080/"
        },
        "id": "tqkJjsmaYSMJ",
        "outputId": "6c40dcd6-4d19-4654-a566-c15c0d3cb300"
      },
      "execution_count": null,
      "outputs": [
        {
          "output_type": "stream",
          "name": "stdout",
          "text": [
            "0        84.860001\n",
            "1        85.570000\n",
            "2        85.129997\n",
            "3        84.769997\n",
            "4        86.779999\n",
            "           ...    \n",
            "2285    124.589996\n",
            "2286    124.330002\n",
            "2287    125.180000\n",
            "2288    124.489998\n",
            "2289    122.543800\n",
            "Name: GLD, Length: 2290, dtype: float64\n"
          ]
        }
      ]
    },
    {
      "cell_type": "markdown",
      "source": [
        "Splitting into Training data and Test data"
      ],
      "metadata": {
        "id": "6fcq-ndMYXTt"
      }
    },
    {
      "cell_type": "code",
      "source": [
        "x_train,x_test,y_train,y_test = train_test_split(x, y, test_size = 0.2, random_state= 2)"
      ],
      "metadata": {
        "id": "ZxY3thITYUzE"
      },
      "execution_count": null,
      "outputs": []
    },
    {
      "cell_type": "markdown",
      "source": [
        "Model Training : Random Forest Regressor"
      ],
      "metadata": {
        "id": "otqVv8DiZBOK"
      }
    },
    {
      "cell_type": "markdown",
      "source": [
        "#***Random Forest Regressor***"
      ],
      "metadata": {
        "id": "4S5pnM_fPU0U"
      }
    },
    {
      "cell_type": "markdown",
      "source": [
        "**Working of Random Forest Alghorithm**\n",
        "* Random forest is a type of supervised learning algorithm that uses ensemble methods to solve both regression and classification problems,which combines the output of multiple decision trees to reach a single result.\n",
        "* Once we feed the training data into our Random Forest Regressor it can make new predictions ,once this model is trained we will evaluate our model based on test data which we are splitted"
      ],
      "metadata": {
        "id": "0jNIQ9xF9mBM"
      }
    },
    {
      "cell_type": "code",
      "source": [
        "regressor = RandomForestRegressor(n_estimators = 100)"
      ],
      "metadata": {
        "id": "5ixQpHHfY7Gc"
      },
      "execution_count": null,
      "outputs": []
    },
    {
      "cell_type": "code",
      "source": [
        "# training the model\n",
        "\n",
        "regressor.fit(x_train,y_train)"
      ],
      "metadata": {
        "colab": {
          "base_uri": "https://localhost:8080/",
          "height": 74
        },
        "id": "7ar3A9gQfJtz",
        "outputId": "4f3d67ed-c381-4853-b5be-629f0a1e4871"
      },
      "execution_count": null,
      "outputs": [
        {
          "output_type": "execute_result",
          "data": {
            "text/plain": [
              "RandomForestRegressor()"
            ],
            "text/html": [
              "<style>#sk-container-id-12 {color: black;background-color: white;}#sk-container-id-12 pre{padding: 0;}#sk-container-id-12 div.sk-toggleable {background-color: white;}#sk-container-id-12 label.sk-toggleable__label {cursor: pointer;display: block;width: 100%;margin-bottom: 0;padding: 0.3em;box-sizing: border-box;text-align: center;}#sk-container-id-12 label.sk-toggleable__label-arrow:before {content: \"▸\";float: left;margin-right: 0.25em;color: #696969;}#sk-container-id-12 label.sk-toggleable__label-arrow:hover:before {color: black;}#sk-container-id-12 div.sk-estimator:hover label.sk-toggleable__label-arrow:before {color: black;}#sk-container-id-12 div.sk-toggleable__content {max-height: 0;max-width: 0;overflow: hidden;text-align: left;background-color: #f0f8ff;}#sk-container-id-12 div.sk-toggleable__content pre {margin: 0.2em;color: black;border-radius: 0.25em;background-color: #f0f8ff;}#sk-container-id-12 input.sk-toggleable__control:checked~div.sk-toggleable__content {max-height: 200px;max-width: 100%;overflow: auto;}#sk-container-id-12 input.sk-toggleable__control:checked~label.sk-toggleable__label-arrow:before {content: \"▾\";}#sk-container-id-12 div.sk-estimator input.sk-toggleable__control:checked~label.sk-toggleable__label {background-color: #d4ebff;}#sk-container-id-12 div.sk-label input.sk-toggleable__control:checked~label.sk-toggleable__label {background-color: #d4ebff;}#sk-container-id-12 input.sk-hidden--visually {border: 0;clip: rect(1px 1px 1px 1px);clip: rect(1px, 1px, 1px, 1px);height: 1px;margin: -1px;overflow: hidden;padding: 0;position: absolute;width: 1px;}#sk-container-id-12 div.sk-estimator {font-family: monospace;background-color: #f0f8ff;border: 1px dotted black;border-radius: 0.25em;box-sizing: border-box;margin-bottom: 0.5em;}#sk-container-id-12 div.sk-estimator:hover {background-color: #d4ebff;}#sk-container-id-12 div.sk-parallel-item::after {content: \"\";width: 100%;border-bottom: 1px solid gray;flex-grow: 1;}#sk-container-id-12 div.sk-label:hover label.sk-toggleable__label {background-color: #d4ebff;}#sk-container-id-12 div.sk-serial::before {content: \"\";position: absolute;border-left: 1px solid gray;box-sizing: border-box;top: 0;bottom: 0;left: 50%;z-index: 0;}#sk-container-id-12 div.sk-serial {display: flex;flex-direction: column;align-items: center;background-color: white;padding-right: 0.2em;padding-left: 0.2em;position: relative;}#sk-container-id-12 div.sk-item {position: relative;z-index: 1;}#sk-container-id-12 div.sk-parallel {display: flex;align-items: stretch;justify-content: center;background-color: white;position: relative;}#sk-container-id-12 div.sk-item::before, #sk-container-id-12 div.sk-parallel-item::before {content: \"\";position: absolute;border-left: 1px solid gray;box-sizing: border-box;top: 0;bottom: 0;left: 50%;z-index: -1;}#sk-container-id-12 div.sk-parallel-item {display: flex;flex-direction: column;z-index: 1;position: relative;background-color: white;}#sk-container-id-12 div.sk-parallel-item:first-child::after {align-self: flex-end;width: 50%;}#sk-container-id-12 div.sk-parallel-item:last-child::after {align-self: flex-start;width: 50%;}#sk-container-id-12 div.sk-parallel-item:only-child::after {width: 0;}#sk-container-id-12 div.sk-dashed-wrapped {border: 1px dashed gray;margin: 0 0.4em 0.5em 0.4em;box-sizing: border-box;padding-bottom: 0.4em;background-color: white;}#sk-container-id-12 div.sk-label label {font-family: monospace;font-weight: bold;display: inline-block;line-height: 1.2em;}#sk-container-id-12 div.sk-label-container {text-align: center;}#sk-container-id-12 div.sk-container {/* jupyter's `normalize.less` sets `[hidden] { display: none; }` but bootstrap.min.css set `[hidden] { display: none !important; }` so we also need the `!important` here to be able to override the default hidden behavior on the sphinx rendered scikit-learn.org. See: https://github.com/scikit-learn/scikit-learn/issues/21755 */display: inline-block !important;position: relative;}#sk-container-id-12 div.sk-text-repr-fallback {display: none;}</style><div id=\"sk-container-id-12\" class=\"sk-top-container\"><div class=\"sk-text-repr-fallback\"><pre>RandomForestRegressor()</pre><b>In a Jupyter environment, please rerun this cell to show the HTML representation or trust the notebook. <br />On GitHub, the HTML representation is unable to render, please try loading this page with nbviewer.org.</b></div><div class=\"sk-container\" hidden><div class=\"sk-item\"><div class=\"sk-estimator sk-toggleable\"><input class=\"sk-toggleable__control sk-hidden--visually\" id=\"sk-estimator-id-12\" type=\"checkbox\" checked><label for=\"sk-estimator-id-12\" class=\"sk-toggleable__label sk-toggleable__label-arrow\">RandomForestRegressor</label><div class=\"sk-toggleable__content\"><pre>RandomForestRegressor()</pre></div></div></div></div></div>"
            ]
          },
          "metadata": {},
          "execution_count": 260
        }
      ]
    },
    {
      "cell_type": "markdown",
      "source": [
        "Model Evaluation"
      ],
      "metadata": {
        "id": "mlsLSS-GfwjB"
      }
    },
    {
      "cell_type": "code",
      "source": [
        "# prediction on Test Data\n",
        "\n",
        "test_data_prediction = regressor.predict(x_test)"
      ],
      "metadata": {
        "id": "jG9Tv2GMfk8A"
      },
      "execution_count": null,
      "outputs": []
    },
    {
      "cell_type": "code",
      "source": [
        "#this is the predicted value\n",
        "\n",
        "print(test_data_prediction)"
      ],
      "metadata": {
        "colab": {
          "base_uri": "https://localhost:8080/"
        },
        "id": "Lnqb7qGtgK7T",
        "outputId": "d2f6c640-4253-406d-a755-c10ada5830bf"
      },
      "execution_count": null,
      "outputs": [
        {
          "output_type": "stream",
          "name": "stdout",
          "text": [
            "[168.47129931  81.55170017 116.23530038 127.71300066 120.74550118\n",
            " 154.76779799 150.01449903 126.18260044 117.49759876 126.17430101\n",
            " 116.70110113 171.41880096 141.62339835 168.01299875 115.19109994\n",
            " 117.91640056 138.38790359 169.93990028 159.49680318 156.47210055\n",
            " 155.03829996 125.29950029 176.66359995 157.10510363 125.25880011\n",
            "  93.75569979  77.9613999  120.87810029 119.06619944 167.35550063\n",
            "  88.25950025 125.37660069  91.04150037 117.8273001  121.21379911\n",
            " 135.89020042 115.73800101 115.01400074 146.05749937 107.50390097\n",
            " 104.1065024   87.18449796 126.53930057 118.08970008 154.04399892\n",
            " 119.5721001  108.38229988 108.09919851  93.00609994 127.22439756\n",
            "  75.07280004 113.64539892 121.37290031 111.30219912 118.82709907\n",
            " 120.78529969 159.23180078 167.08580155 146.9918968   85.73629885\n",
            "  94.47090054  86.67849913  90.59570014 118.96880075 126.37190072\n",
            " 127.47619996 170.0403     122.32069964 117.3494989   98.98450064\n",
            " 167.93530124 143.13029939 132.17190252 121.29920242 121.30359955\n",
            " 119.74070042 114.61380171 118.53560053 107.62350099 127.94110102\n",
            " 113.99859957 107.35099995 116.73570077 119.64459849  88.81160092\n",
            "  88.1302986  146.56480268 127.23379951 113.41190003 110.35759841\n",
            " 108.12749899  77.781499   169.3080018  114.07719892 121.56929922\n",
            " 128.02090183 155.02419833  91.68139921 136.38150106 158.88650355\n",
            " 125.63330076 125.26490084 130.8648024  115.06040097 120.03790008\n",
            "  92.14069995 110.292799   168.81709885 157.70319948 114.2178996\n",
            " 106.54630151  79.94789964 113.20080035 125.92070076 107.06339934\n",
            " 119.27750099 155.96720351 159.90969913 120.21609985 134.63480298\n",
            " 101.4361     117.40969808 119.09569962 112.99270081 102.74919913\n",
            " 159.84509798  99.2180004  147.18489839 125.50750105 169.39829857\n",
            " 125.42649913 127.29029759 127.3971014  113.67929931 112.76850053\n",
            " 123.49629909 102.24899908  89.35499994 124.43809961 101.71349978\n",
            " 106.75189948 113.43720045 117.41400042  99.40469971 121.69870039\n",
            " 163.7266996   87.40289833 106.46569968 117.06830082 127.74320173\n",
            " 124.07580056  80.58839952 120.32560064 157.18019822  87.89499973\n",
            " 110.5062993  119.00519936 172.41289892 102.96939917 105.78090029\n",
            " 122.63560031 158.52169765  87.43729831  93.00410013 112.41580005\n",
            " 176.9692998  114.20999996 119.14639996  94.46110105 125.90819978\n",
            " 165.63230039 114.92380073 116.57570119  88.24529871 148.85520063\n",
            " 120.31619957  89.57059993 112.2031998  117.19530083 118.80980111\n",
            "  88.22739961  93.99860012 116.56760026 118.5619021  120.45370084\n",
            " 126.82139787 121.98749992 149.51890072 165.33559985 118.49539962\n",
            " 120.21860125 150.71150083 118.45719915 172.47999884 105.66379953\n",
            " 105.06750081 149.82950084 113.90460069 124.78400134 147.47129895\n",
            " 119.67120127 115.34690052 112.73219985 113.47640209 140.64200084\n",
            " 118.03759744 103.01380053 115.85260094 103.43840185  99.11560037\n",
            " 117.53250064  90.71030007  91.60700065 153.6348995  102.63999967\n",
            " 154.91390082 114.40210209 138.90650053  90.33919787 115.47679958\n",
            " 114.66349964 123.31909997 121.82490039 165.26260175  92.92979951\n",
            " 135.33390124 121.40579925 120.88950116 104.4975001  142.03740287\n",
            " 122.12129935 116.60130056 113.45220062 127.25259689 122.84439948\n",
            " 125.74499957 121.29280039  86.82669903 132.19770178 145.99200228\n",
            "  92.67429975 159.54119941 158.94390267 126.25919896 165.40929964\n",
            " 108.94879966 109.79490104 103.63829816  94.30229999 127.57230268\n",
            " 107.00980071 160.6268998  121.71990023 132.00539981 130.90130218\n",
            " 160.53720002  90.31199813 175.105402   128.02840001 126.83109837\n",
            "  86.31049959 124.50589932 150.54779734  89.65160006 106.64469974\n",
            " 108.92970009  84.13899903 136.08649987 154.87720183 138.18240344\n",
            "  74.14700038 152.16120151 126.33900012 126.73340008 127.52109846\n",
            " 108.64499933 156.57439968 114.46480124 117.06120141 124.70989926\n",
            " 154.1762016  121.19159992 156.33539905  92.95200032 125.51340153\n",
            " 125.53770026  87.99360019  92.23189905 126.33040002 128.27470338\n",
            " 113.08660039 117.62369757 120.91050062 127.23979749 119.72250102\n",
            " 135.91760089  93.86389942 119.66000007 113.33990113  94.18329949\n",
            " 108.82120012  87.21239915 109.64309954  89.50189994  92.48930025\n",
            " 131.93180297 162.27790001  89.43590034 119.67300094 133.31720162\n",
            " 123.94320032 128.18380218 102.04679859  89.05019901 131.48000002\n",
            " 120.16570024 108.45949995 169.06030081 115.20990034  86.65969919\n",
            " 118.94310065  91.03859938 161.98800081 116.39690049 121.26960024\n",
            " 160.22599775 120.04929933 112.90959991 108.4075987  126.8328001\n",
            "  76.19470003 103.02829978 127.28720271 121.72929906  92.57999997\n",
            " 132.70830082 118.20560136 116.30289969 154.40940283 159.73420075\n",
            " 110.0149993  151.14499765 119.21880081 160.62620136 118.5238002\n",
            " 158.96490027 115.01419962 116.66740024 150.183499   114.75840075\n",
            " 125.79689837 165.5648001  117.69820004 125.34679924 153.292303\n",
            " 153.52060283 132.09240059 114.80900028 121.23580227 125.1797008\n",
            "  89.80050027 122.73600036 155.12260227 111.69480023 106.5023999\n",
            " 161.61670138 118.64419962 165.63270048 133.7633011  115.22669973\n",
            " 153.06629971 168.78140062 115.15520008 114.16590119 157.92259876\n",
            "  85.27219877 127.22900045 127.87150047 128.70459955 124.42160039\n",
            " 123.94250074  90.55400077 153.0580008   97.0807998  137.09519993\n",
            "  89.22679917 107.40530025 115.0387003  112.71170059 124.43579901\n",
            "  91.37399885 125.53880118 162.20779855 119.82789883 165.04260086\n",
            " 126.83209777 112.53270008 127.65409864  94.98189861  90.97280013\n",
            " 103.62279915 120.82710018  83.17869945 126.3955     160.39650475\n",
            " 117.29950097 118.45989995 120.03819988 122.70639955 120.05330135\n",
            " 121.42709963 118.19810083 106.94630001 148.11739953 126.09049845\n",
            " 115.76160096  74.23110007 127.86420174 154.98360084 122.84110011\n",
            " 125.56470121  88.80430037 103.54309871 124.31200053 120.34170051\n",
            "  73.36780082 151.3020009  121.05830069 104.65359977  86.50189771\n",
            " 115.09309922 172.26659743 119.66350042 160.81419781 113.16929957\n",
            " 120.75210015 118.69300132  96.12089989 118.93100026 126.00140036\n",
            " 118.41239946  96.04740052 153.92220219 121.88500032 147.68029997\n",
            " 159.59860249 113.95860004 122.54039935 149.38939809 127.16490027\n",
            " 165.96610036 136.05469975 120.20350019 167.34899896 108.38079951\n",
            " 121.75869859 138.31740057 107.13249902]\n"
          ]
        }
      ]
    },
    {
      "cell_type": "markdown",
      "source": [
        "* R squre error - It measures the average squared difference between the predicted values and the actual values"
      ],
      "metadata": {
        "id": "cvMBGneZMCyU"
      }
    },
    {
      "cell_type": "code",
      "source": [
        "#training score\n",
        "\n",
        "regressor.score(x_train,y_train)"
      ],
      "metadata": {
        "colab": {
          "base_uri": "https://localhost:8080/"
        },
        "id": "FjPiTgPgWTvL",
        "outputId": "20142b27-71e7-4873-adb1-acabd1d8130a"
      },
      "execution_count": null,
      "outputs": [
        {
          "output_type": "execute_result",
          "data": {
            "text/plain": [
              "0.9985040249159163"
            ]
          },
          "metadata": {},
          "execution_count": 263
        }
      ]
    },
    {
      "cell_type": "code",
      "source": [
        "# accuracy\n",
        "\n",
        "error_score = metrics.r2_score(y_test, test_data_prediction)\n",
        "print('accuracy : ', error_score)"
      ],
      "metadata": {
        "colab": {
          "base_uri": "https://localhost:8080/"
        },
        "id": "VGacawwUgR5E",
        "outputId": "e9d33b1c-ebc9-487e-f6ad-c46f08f92f4d"
      },
      "execution_count": null,
      "outputs": [
        {
          "output_type": "stream",
          "name": "stdout",
          "text": [
            "accuracy :  0.9900927271725588\n"
          ]
        }
      ]
    },
    {
      "cell_type": "code",
      "source": [
        "# mean_absolute_error\n",
        "\n",
        "from sklearn.metrics import mean_absolute_error\n",
        "mselr=mean_absolute_error(y_test,test_data_prediction)\n",
        "mselr"
      ],
      "metadata": {
        "colab": {
          "base_uri": "https://localhost:8080/"
        },
        "id": "K1LmigH_WquB",
        "outputId": "ef87025e-86a4-42b0-bd4c-eb695b42e126"
      },
      "execution_count": null,
      "outputs": [
        {
          "output_type": "execute_result",
          "data": {
            "text/plain": [
              "1.295628809716154"
            ]
          },
          "metadata": {},
          "execution_count": 265
        }
      ]
    },
    {
      "cell_type": "code",
      "source": [
        "#mean square error\n",
        "\n",
        "from sklearn.metrics import mean_squared_error\n",
        "mse=np.sqrt(mean_squared_error(y_test,test_data_prediction))\n",
        "print('RMSE : ',mse)"
      ],
      "metadata": {
        "colab": {
          "base_uri": "https://localhost:8080/"
        },
        "id": "XjF3bL1DW6zA",
        "outputId": "75d1c45a-bb58-4ff6-a8fb-1c78748bd62a"
      },
      "execution_count": null,
      "outputs": [
        {
          "output_type": "stream",
          "name": "stdout",
          "text": [
            "RMSE :  2.2859410889250573\n"
          ]
        }
      ]
    },
    {
      "cell_type": "code",
      "source": [
        "# Lets visualize the actual and predicted values using Distplot:\n",
        "\n",
        "df1 = pd.DataFrame({'Actual': y_test, 'Predicted': test_data_prediction})\n",
        "df1.reset_index(drop=True)[:5]"
      ],
      "metadata": {
        "colab": {
          "base_uri": "https://localhost:8080/",
          "height": 206
        },
        "outputId": "988ebf4a-e05f-4641-91ea-afe0a0149a5d",
        "id": "1AYKWR4PavxW"
      },
      "execution_count": null,
      "outputs": [
        {
          "output_type": "execute_result",
          "data": {
            "text/plain": [
              "       Actual   Predicted\n",
              "0  168.020004  168.471299\n",
              "1   81.230003   81.551700\n",
              "2  112.320000  116.235300\n",
              "3  127.589996  127.713001\n",
              "4  119.620003  120.745501"
            ],
            "text/html": [
              "\n",
              "  <div id=\"df-560fd95b-8448-4e6e-8edd-d18c00cc1d38\">\n",
              "    <div class=\"colab-df-container\">\n",
              "      <div>\n",
              "<style scoped>\n",
              "    .dataframe tbody tr th:only-of-type {\n",
              "        vertical-align: middle;\n",
              "    }\n",
              "\n",
              "    .dataframe tbody tr th {\n",
              "        vertical-align: top;\n",
              "    }\n",
              "\n",
              "    .dataframe thead th {\n",
              "        text-align: right;\n",
              "    }\n",
              "</style>\n",
              "<table border=\"1\" class=\"dataframe\">\n",
              "  <thead>\n",
              "    <tr style=\"text-align: right;\">\n",
              "      <th></th>\n",
              "      <th>Actual</th>\n",
              "      <th>Predicted</th>\n",
              "    </tr>\n",
              "  </thead>\n",
              "  <tbody>\n",
              "    <tr>\n",
              "      <th>0</th>\n",
              "      <td>168.020004</td>\n",
              "      <td>168.471299</td>\n",
              "    </tr>\n",
              "    <tr>\n",
              "      <th>1</th>\n",
              "      <td>81.230003</td>\n",
              "      <td>81.551700</td>\n",
              "    </tr>\n",
              "    <tr>\n",
              "      <th>2</th>\n",
              "      <td>112.320000</td>\n",
              "      <td>116.235300</td>\n",
              "    </tr>\n",
              "    <tr>\n",
              "      <th>3</th>\n",
              "      <td>127.589996</td>\n",
              "      <td>127.713001</td>\n",
              "    </tr>\n",
              "    <tr>\n",
              "      <th>4</th>\n",
              "      <td>119.620003</td>\n",
              "      <td>120.745501</td>\n",
              "    </tr>\n",
              "  </tbody>\n",
              "</table>\n",
              "</div>\n",
              "      <button class=\"colab-df-convert\" onclick=\"convertToInteractive('df-560fd95b-8448-4e6e-8edd-d18c00cc1d38')\"\n",
              "              title=\"Convert this dataframe to an interactive table.\"\n",
              "              style=\"display:none;\">\n",
              "        \n",
              "  <svg xmlns=\"http://www.w3.org/2000/svg\" height=\"24px\"viewBox=\"0 0 24 24\"\n",
              "       width=\"24px\">\n",
              "    <path d=\"M0 0h24v24H0V0z\" fill=\"none\"/>\n",
              "    <path d=\"M18.56 5.44l.94 2.06.94-2.06 2.06-.94-2.06-.94-.94-2.06-.94 2.06-2.06.94zm-11 1L8.5 8.5l.94-2.06 2.06-.94-2.06-.94L8.5 2.5l-.94 2.06-2.06.94zm10 10l.94 2.06.94-2.06 2.06-.94-2.06-.94-.94-2.06-.94 2.06-2.06.94z\"/><path d=\"M17.41 7.96l-1.37-1.37c-.4-.4-.92-.59-1.43-.59-.52 0-1.04.2-1.43.59L10.3 9.45l-7.72 7.72c-.78.78-.78 2.05 0 2.83L4 21.41c.39.39.9.59 1.41.59.51 0 1.02-.2 1.41-.59l7.78-7.78 2.81-2.81c.8-.78.8-2.07 0-2.86zM5.41 20L4 18.59l7.72-7.72 1.47 1.35L5.41 20z\"/>\n",
              "  </svg>\n",
              "      </button>\n",
              "      \n",
              "  <style>\n",
              "    .colab-df-container {\n",
              "      display:flex;\n",
              "      flex-wrap:wrap;\n",
              "      gap: 12px;\n",
              "    }\n",
              "\n",
              "    .colab-df-convert {\n",
              "      background-color: #E8F0FE;\n",
              "      border: none;\n",
              "      border-radius: 50%;\n",
              "      cursor: pointer;\n",
              "      display: none;\n",
              "      fill: #1967D2;\n",
              "      height: 32px;\n",
              "      padding: 0 0 0 0;\n",
              "      width: 32px;\n",
              "    }\n",
              "\n",
              "    .colab-df-convert:hover {\n",
              "      background-color: #E2EBFA;\n",
              "      box-shadow: 0px 1px 2px rgba(60, 64, 67, 0.3), 0px 1px 3px 1px rgba(60, 64, 67, 0.15);\n",
              "      fill: #174EA6;\n",
              "    }\n",
              "\n",
              "    [theme=dark] .colab-df-convert {\n",
              "      background-color: #3B4455;\n",
              "      fill: #D2E3FC;\n",
              "    }\n",
              "\n",
              "    [theme=dark] .colab-df-convert:hover {\n",
              "      background-color: #434B5C;\n",
              "      box-shadow: 0px 1px 3px 1px rgba(0, 0, 0, 0.15);\n",
              "      filter: drop-shadow(0px 1px 2px rgba(0, 0, 0, 0.3));\n",
              "      fill: #FFFFFF;\n",
              "    }\n",
              "  </style>\n",
              "\n",
              "      <script>\n",
              "        const buttonEl =\n",
              "          document.querySelector('#df-560fd95b-8448-4e6e-8edd-d18c00cc1d38 button.colab-df-convert');\n",
              "        buttonEl.style.display =\n",
              "          google.colab.kernel.accessAllowed ? 'block' : 'none';\n",
              "\n",
              "        async function convertToInteractive(key) {\n",
              "          const element = document.querySelector('#df-560fd95b-8448-4e6e-8edd-d18c00cc1d38');\n",
              "          const dataTable =\n",
              "            await google.colab.kernel.invokeFunction('convertToInteractive',\n",
              "                                                     [key], {});\n",
              "          if (!dataTable) return;\n",
              "\n",
              "          const docLinkHtml = 'Like what you see? Visit the ' +\n",
              "            '<a target=\"_blank\" href=https://colab.research.google.com/notebooks/data_table.ipynb>data table notebook</a>'\n",
              "            + ' to learn more about interactive tables.';\n",
              "          element.innerHTML = '';\n",
              "          dataTable['output_type'] = 'display_data';\n",
              "          await google.colab.output.renderOutput(dataTable, element);\n",
              "          const docLink = document.createElement('div');\n",
              "          docLink.innerHTML = docLinkHtml;\n",
              "          element.appendChild(docLink);\n",
              "        }\n",
              "      </script>\n",
              "    </div>\n",
              "  </div>\n",
              "  "
            ]
          },
          "metadata": {},
          "execution_count": 267
        }
      ]
    },
    {
      "cell_type": "code",
      "source": [
        "fig,ax=plt.subplots(figsize=(8,5));\n",
        "ax1 = sns.distplot(df1['Actual'], hist=False, color=\"red\", label=\"Actual Value\");\n",
        "ax2=sns.distplot(df1['Predicted'], hist=False, color=\"blue\", label=\"Predicted Values\");\n",
        "ax.legend();"
      ],
      "metadata": {
        "outputId": "af7e7cd8-0d3c-43c1-d902-630481f92b88",
        "colab": {
          "base_uri": "https://localhost:8080/",
          "height": 465
        },
        "id": "hOCmU1tRavxW"
      },
      "execution_count": null,
      "outputs": [
        {
          "output_type": "display_data",
          "data": {
            "text/plain": [
              "<Figure size 800x500 with 1 Axes>"
            ],
            "image/png": "[encoded data removed]"
          },
          "metadata": {}
        }
      ]
    },
    {
      "cell_type": "markdown",
      "source": [
        "#***Linear Regression model***\n",
        "Linear regression is one of the easiest and most popular Machine Learning algorithms. It is a statistical method that is used for predictive analysis. Linear regression makes predictions for continuous/real or numeric variables"
      ],
      "metadata": {
        "id": "YPLfFGotNt-G"
      }
    },
    {
      "cell_type": "code",
      "source": [
        "from sklearn.model_selection import train_test_split\n",
        "x_train,x_test,y_train,y_test = train_test_split(x,y,test_size = 0.20,random_state = 0)"
      ],
      "metadata": {
        "id": "gBzO6Tl5NtXM"
      },
      "execution_count": null,
      "outputs": []
    },
    {
      "cell_type": "code",
      "source": [
        "from sklearn.linear_model import LinearRegression\n",
        "regressor = LinearRegression()\n",
        "regressor.fit(x_train,y_train)\n",
        "y_pred = regressor.predict(x_test)"
      ],
      "metadata": {
        "id": "T8daSrLpOQHX"
      },
      "execution_count": null,
      "outputs": []
    },
    {
      "cell_type": "code",
      "source": [
        "y_pred[:10]"
      ],
      "metadata": {
        "colab": {
          "base_uri": "https://localhost:8080/"
        },
        "id": "QF8D-IVIOvl7",
        "outputId": "79b4357e-a79f-46de-d6a9-22471ec0a92d"
      },
      "execution_count": null,
      "outputs": [
        {
          "output_type": "execute_result",
          "data": {
            "text/plain": [
              "array([123.75748411, 119.41011435, 121.37053586, 123.23725452,\n",
              "       120.93697992, 121.42778935, 119.61009669, 119.50757738,\n",
              "       121.63531818, 121.26372817])"
            ]
          },
          "metadata": {},
          "execution_count": 299
        }
      ]
    },
    {
      "cell_type": "code",
      "source": [
        "from sklearn.metrics import r2_score\n",
        "print(\"r2_score\",r2_score(y_test,y_pred))"
      ],
      "metadata": {
        "colab": {
          "base_uri": "https://localhost:8080/"
        },
        "id": "0qitnn1eOxy3",
        "outputId": "1a6b7fac-7867-4ae7-bd9d-4e10b41a1a5c"
      },
      "execution_count": null,
      "outputs": [
        {
          "output_type": "stream",
          "name": "stdout",
          "text": [
            "r2_score 0.8530125466873726\n"
          ]
        }
      ]
    },
    {
      "cell_type": "code",
      "source": [
        "#training score\n",
        "\n",
        "regressor.score(x_train,y_train)"
      ],
      "metadata": {
        "colab": {
          "base_uri": "https://localhost:8080/"
        },
        "outputId": "49b9f3f6-3e12-4954-bac2-8647034edd3a",
        "id": "Wk30sToLXgLG"
      },
      "execution_count": null,
      "outputs": [
        {
          "output_type": "execute_result",
          "data": {
            "text/plain": [
              "0.8877758904855643"
            ]
          },
          "metadata": {},
          "execution_count": 273
        }
      ]
    },
    {
      "cell_type": "code",
      "source": [
        "# accuracy\n",
        "\n",
        "error_score = metrics.r2_score(y_test, y_pred)\n",
        "print('accuracy : ', error_score)"
      ],
      "metadata": {
        "colab": {
          "base_uri": "https://localhost:8080/"
        },
        "outputId": "89a1b069-9c4f-476f-979b-1ada99980410",
        "id": "JsaBgKpVXgLH"
      },
      "execution_count": null,
      "outputs": [
        {
          "output_type": "stream",
          "name": "stdout",
          "text": [
            "accuracy :  0.8530125466873726\n"
          ]
        }
      ]
    },
    {
      "cell_type": "code",
      "source": [
        "# mean_absolute_error\n",
        "\n",
        "from sklearn.metrics import mean_absolute_error\n",
        "mselr=mean_absolute_error(y_test,y_pred)\n",
        "mselr"
      ],
      "metadata": {
        "colab": {
          "base_uri": "https://localhost:8080/"
        },
        "outputId": "c83dba4a-980d-4308-8be1-312f6b484628",
        "id": "_jrpjQIRXgLH"
      },
      "execution_count": null,
      "outputs": [
        {
          "output_type": "execute_result",
          "data": {
            "text/plain": [
              "6.112232362039995"
            ]
          },
          "metadata": {},
          "execution_count": 275
        }
      ]
    },
    {
      "cell_type": "code",
      "source": [
        "#mean square error\n",
        "\n",
        "from sklearn.metrics import mean_squared_error\n",
        "mse=np.sqrt(mean_squared_error(y_test,y_pred))\n",
        "print('RMSE : ',mse)"
      ],
      "metadata": {
        "colab": {
          "base_uri": "https://localhost:8080/"
        },
        "outputId": "5c34f987-5ab1-4c74-eaca-d36ce235be72",
        "id": "X5mrv41iXgLI"
      },
      "execution_count": null,
      "outputs": [
        {
          "output_type": "stream",
          "name": "stdout",
          "text": [
            "RMSE :  8.695838279068687\n"
          ]
        }
      ]
    },
    {
      "cell_type": "code",
      "source": [
        "# Lets visualize the actual and predicted values using Distplot:\n",
        "\n",
        "df1 = pd.DataFrame({'Actual': y_test, 'Predicted': y_pred})\n",
        "df1.reset_index(drop=True)[:5]"
      ],
      "metadata": {
        "colab": {
          "base_uri": "https://localhost:8080/",
          "height": 206
        },
        "outputId": "ca6788ef-284b-49bd-a768-0a9c7d52a43e",
        "id": "EztaX1Zfa088"
      },
      "execution_count": null,
      "outputs": [
        {
          "output_type": "execute_result",
          "data": {
            "text/plain": [
              "       Actual   Predicted\n",
              "0  128.789993  123.988486\n",
              "1  115.620003  118.723783\n",
              "2  139.220001  167.936061\n",
              "3  120.930000  120.954363\n",
              "4   93.040001   99.217174"
            ],
            "text/html": [
              "\n",
              "  <div id=\"df-94743f5b-1e8e-467c-bd56-0e1f51197411\">\n",
              "    <div class=\"colab-df-container\">\n",
              "      <div>\n",
              "<style scoped>\n",
              "    .dataframe tbody tr th:only-of-type {\n",
              "        vertical-align: middle;\n",
              "    }\n",
              "\n",
              "    .dataframe tbody tr th {\n",
              "        vertical-align: top;\n",
              "    }\n",
              "\n",
              "    .dataframe thead th {\n",
              "        text-align: right;\n",
              "    }\n",
              "</style>\n",
              "<table border=\"1\" class=\"dataframe\">\n",
              "  <thead>\n",
              "    <tr style=\"text-align: right;\">\n",
              "      <th></th>\n",
              "      <th>Actual</th>\n",
              "      <th>Predicted</th>\n",
              "    </tr>\n",
              "  </thead>\n",
              "  <tbody>\n",
              "    <tr>\n",
              "      <th>0</th>\n",
              "      <td>128.789993</td>\n",
              "      <td>123.988486</td>\n",
              "    </tr>\n",
              "    <tr>\n",
              "      <th>1</th>\n",
              "      <td>115.620003</td>\n",
              "      <td>118.723783</td>\n",
              "    </tr>\n",
              "    <tr>\n",
              "      <th>2</th>\n",
              "      <td>139.220001</td>\n",
              "      <td>167.936061</td>\n",
              "    </tr>\n",
              "    <tr>\n",
              "      <th>3</th>\n",
              "      <td>120.930000</td>\n",
              "      <td>120.954363</td>\n",
              "    </tr>\n",
              "    <tr>\n",
              "      <th>4</th>\n",
              "      <td>93.040001</td>\n",
              "      <td>99.217174</td>\n",
              "    </tr>\n",
              "  </tbody>\n",
              "</table>\n",
              "</div>\n",
              "      <button class=\"colab-df-convert\" onclick=\"convertToInteractive('df-94743f5b-1e8e-467c-bd56-0e1f51197411')\"\n",
              "              title=\"Convert this dataframe to an interactive table.\"\n",
              "              style=\"display:none;\">\n",
              "        \n",
              "  <svg xmlns=\"http://www.w3.org/2000/svg\" height=\"24px\"viewBox=\"0 0 24 24\"\n",
              "       width=\"24px\">\n",
              "    <path d=\"M0 0h24v24H0V0z\" fill=\"none\"/>\n",
              "    <path d=\"M18.56 5.44l.94 2.06.94-2.06 2.06-.94-2.06-.94-.94-2.06-.94 2.06-2.06.94zm-11 1L8.5 8.5l.94-2.06 2.06-.94-2.06-.94L8.5 2.5l-.94 2.06-2.06.94zm10 10l.94 2.06.94-2.06 2.06-.94-2.06-.94-.94-2.06-.94 2.06-2.06.94z\"/><path d=\"M17.41 7.96l-1.37-1.37c-.4-.4-.92-.59-1.43-.59-.52 0-1.04.2-1.43.59L10.3 9.45l-7.72 7.72c-.78.78-.78 2.05 0 2.83L4 21.41c.39.39.9.59 1.41.59.51 0 1.02-.2 1.41-.59l7.78-7.78 2.81-2.81c.8-.78.8-2.07 0-2.86zM5.41 20L4 18.59l7.72-7.72 1.47 1.35L5.41 20z\"/>\n",
              "  </svg>\n",
              "      </button>\n",
              "      \n",
              "  <style>\n",
              "    .colab-df-container {\n",
              "      display:flex;\n",
              "      flex-wrap:wrap;\n",
              "      gap: 12px;\n",
              "    }\n",
              "\n",
              "    .colab-df-convert {\n",
              "      background-color: #E8F0FE;\n",
              "      border: none;\n",
              "      border-radius: 50%;\n",
              "      cursor: pointer;\n",
              "      display: none;\n",
              "      fill: #1967D2;\n",
              "      height: 32px;\n",
              "      padding: 0 0 0 0;\n",
              "      width: 32px;\n",
              "    }\n",
              "\n",
              "    .colab-df-convert:hover {\n",
              "      background-color: #E2EBFA;\n",
              "      box-shadow: 0px 1px 2px rgba(60, 64, 67, 0.3), 0px 1px 3px 1px rgba(60, 64, 67, 0.15);\n",
              "      fill: #174EA6;\n",
              "    }\n",
              "\n",
              "    [theme=dark] .colab-df-convert {\n",
              "      background-color: #3B4455;\n",
              "      fill: #D2E3FC;\n",
              "    }\n",
              "\n",
              "    [theme=dark] .colab-df-convert:hover {\n",
              "      background-color: #434B5C;\n",
              "      box-shadow: 0px 1px 3px 1px rgba(0, 0, 0, 0.15);\n",
              "      filter: drop-shadow(0px 1px 2px rgba(0, 0, 0, 0.3));\n",
              "      fill: #FFFFFF;\n",
              "    }\n",
              "  </style>\n",
              "\n",
              "      <script>\n",
              "        const buttonEl =\n",
              "          document.querySelector('#df-94743f5b-1e8e-467c-bd56-0e1f51197411 button.colab-df-convert');\n",
              "        buttonEl.style.display =\n",
              "          google.colab.kernel.accessAllowed ? 'block' : 'none';\n",
              "\n",
              "        async function convertToInteractive(key) {\n",
              "          const element = document.querySelector('#df-94743f5b-1e8e-467c-bd56-0e1f51197411');\n",
              "          const dataTable =\n",
              "            await google.colab.kernel.invokeFunction('convertToInteractive',\n",
              "                                                     [key], {});\n",
              "          if (!dataTable) return;\n",
              "\n",
              "          const docLinkHtml = 'Like what you see? Visit the ' +\n",
              "            '<a target=\"_blank\" href=https://colab.research.google.com/notebooks/data_table.ipynb>data table notebook</a>'\n",
              "            + ' to learn more about interactive tables.';\n",
              "          element.innerHTML = '';\n",
              "          dataTable['output_type'] = 'display_data';\n",
              "          await google.colab.output.renderOutput(dataTable, element);\n",
              "          const docLink = document.createElement('div');\n",
              "          docLink.innerHTML = docLinkHtml;\n",
              "          element.appendChild(docLink);\n",
              "        }\n",
              "      </script>\n",
              "    </div>\n",
              "  </div>\n",
              "  "
            ]
          },
          "metadata": {},
          "execution_count": 277
        }
      ]
    },
    {
      "cell_type": "code",
      "source": [
        "fig,ax=plt.subplots(figsize=(8,5));\n",
        "ax1 = sns.distplot(df1['Actual'], hist=False, color=\"red\", label=\"Actual Value\");\n",
        "ax2=sns.distplot(df1['Predicted'], hist=False, color=\"blue\", label=\"Predicted Values\");\n",
        "ax.legend();"
      ],
      "metadata": {
        "outputId": "b3d70fc0-4779-4d51-8504-b0f373023491",
        "colab": {
          "base_uri": "https://localhost:8080/",
          "height": 465
        },
        "id": "uhQbcoV8a089"
      },
      "execution_count": null,
      "outputs": [
        {
          "output_type": "display_data",
          "data": {
            "text/plain": [
              "<Figure size 800x500 with 1 Axes>"
            ],
            "image/png": "[encoded data removed]"
          },
          "metadata": {}
        }
      ]
    },
    {
      "cell_type": "markdown",
      "source": [
        "#***K Nearest Neighbour model***\n",
        "\n",
        "* he target is predicted by local interpolation of the targets associated of the nearest neighbors in the training set."
      ],
      "metadata": {
        "id": "16F13zSkS_f_"
      }
    },
    {
      "cell_type": "code",
      "source": [
        "from sklearn.neighbors import KNeighborsRegressor"
      ],
      "metadata": {
        "id": "RGNIKXNrTHq5"
      },
      "execution_count": null,
      "outputs": []
    },
    {
      "cell_type": "code",
      "source": [
        "regressor = KNeighborsRegressor()"
      ],
      "metadata": {
        "id": "jLRbTOMETJuU"
      },
      "execution_count": null,
      "outputs": []
    },
    {
      "cell_type": "code",
      "source": [
        "# training the model\n",
        "\n",
        "regressor.fit(x_train,y_train)"
      ],
      "metadata": {
        "colab": {
          "base_uri": "https://localhost:8080/",
          "height": 74
        },
        "id": "o3I8NbcRUmhO",
        "outputId": "ad0028f6-1888-46a5-bc8c-35a2ef10ebfe"
      },
      "execution_count": null,
      "outputs": [
        {
          "output_type": "execute_result",
          "data": {
            "text/plain": [
              "KNeighborsRegressor()"
            ],
            "text/html": [
              "<style>#sk-container-id-13 {color: black;background-color: white;}#sk-container-id-13 pre{padding: 0;}#sk-container-id-13 div.sk-toggleable {background-color: white;}#sk-container-id-13 label.sk-toggleable__label {cursor: pointer;display: block;width: 100%;margin-bottom: 0;padding: 0.3em;box-sizing: border-box;text-align: center;}#sk-container-id-13 label.sk-toggleable__label-arrow:before {content: \"▸\";float: left;margin-right: 0.25em;color: #696969;}#sk-container-id-13 label.sk-toggleable__label-arrow:hover:before {color: black;}#sk-container-id-13 div.sk-estimator:hover label.sk-toggleable__label-arrow:before {color: black;}#sk-container-id-13 div.sk-toggleable__content {max-height: 0;max-width: 0;overflow: hidden;text-align: left;background-color: #f0f8ff;}#sk-container-id-13 div.sk-toggleable__content pre {margin: 0.2em;color: black;border-radius: 0.25em;background-color: #f0f8ff;}#sk-container-id-13 input.sk-toggleable__control:checked~div.sk-toggleable__content {max-height: 200px;max-width: 100%;overflow: auto;}#sk-container-id-13 input.sk-toggleable__control:checked~label.sk-toggleable__label-arrow:before {content: \"▾\";}#sk-container-id-13 div.sk-estimator input.sk-toggleable__control:checked~label.sk-toggleable__label {background-color: #d4ebff;}#sk-container-id-13 div.sk-label input.sk-toggleable__control:checked~label.sk-toggleable__label {background-color: #d4ebff;}#sk-container-id-13 input.sk-hidden--visually {border: 0;clip: rect(1px 1px 1px 1px);clip: rect(1px, 1px, 1px, 1px);height: 1px;margin: -1px;overflow: hidden;padding: 0;position: absolute;width: 1px;}#sk-container-id-13 div.sk-estimator {font-family: monospace;background-color: #f0f8ff;border: 1px dotted black;border-radius: 0.25em;box-sizing: border-box;margin-bottom: 0.5em;}#sk-container-id-13 div.sk-estimator:hover {background-color: #d4ebff;}#sk-container-id-13 div.sk-parallel-item::after {content: \"\";width: 100%;border-bottom: 1px solid gray;flex-grow: 1;}#sk-container-id-13 div.sk-label:hover label.sk-toggleable__label {background-color: #d4ebff;}#sk-container-id-13 div.sk-serial::before {content: \"\";position: absolute;border-left: 1px solid gray;box-sizing: border-box;top: 0;bottom: 0;left: 50%;z-index: 0;}#sk-container-id-13 div.sk-serial {display: flex;flex-direction: column;align-items: center;background-color: white;padding-right: 0.2em;padding-left: 0.2em;position: relative;}#sk-container-id-13 div.sk-item {position: relative;z-index: 1;}#sk-container-id-13 div.sk-parallel {display: flex;align-items: stretch;justify-content: center;background-color: white;position: relative;}#sk-container-id-13 div.sk-item::before, #sk-container-id-13 div.sk-parallel-item::before {content: \"\";position: absolute;border-left: 1px solid gray;box-sizing: border-box;top: 0;bottom: 0;left: 50%;z-index: -1;}#sk-container-id-13 div.sk-parallel-item {display: flex;flex-direction: column;z-index: 1;position: relative;background-color: white;}#sk-container-id-13 div.sk-parallel-item:first-child::after {align-self: flex-end;width: 50%;}#sk-container-id-13 div.sk-parallel-item:last-child::after {align-self: flex-start;width: 50%;}#sk-container-id-13 div.sk-parallel-item:only-child::after {width: 0;}#sk-container-id-13 div.sk-dashed-wrapped {border: 1px dashed gray;margin: 0 0.4em 0.5em 0.4em;box-sizing: border-box;padding-bottom: 0.4em;background-color: white;}#sk-container-id-13 div.sk-label label {font-family: monospace;font-weight: bold;display: inline-block;line-height: 1.2em;}#sk-container-id-13 div.sk-label-container {text-align: center;}#sk-container-id-13 div.sk-container {/* jupyter's `normalize.less` sets `[hidden] { display: none; }` but bootstrap.min.css set `[hidden] { display: none !important; }` so we also need the `!important` here to be able to override the default hidden behavior on the sphinx rendered scikit-learn.org. See: https://github.com/scikit-learn/scikit-learn/issues/21755 */display: inline-block !important;position: relative;}#sk-container-id-13 div.sk-text-repr-fallback {display: none;}</style><div id=\"sk-container-id-13\" class=\"sk-top-container\"><div class=\"sk-text-repr-fallback\"><pre>KNeighborsRegressor()</pre><b>In a Jupyter environment, please rerun this cell to show the HTML representation or trust the notebook. <br />On GitHub, the HTML representation is unable to render, please try loading this page with nbviewer.org.</b></div><div class=\"sk-container\" hidden><div class=\"sk-item\"><div class=\"sk-estimator sk-toggleable\"><input class=\"sk-toggleable__control sk-hidden--visually\" id=\"sk-estimator-id-13\" type=\"checkbox\" checked><label for=\"sk-estimator-id-13\" class=\"sk-toggleable__label sk-toggleable__label-arrow\">KNeighborsRegressor</label><div class=\"sk-toggleable__content\"><pre>KNeighborsRegressor()</pre></div></div></div></div></div>"
            ]
          },
          "metadata": {},
          "execution_count": 281
        }
      ]
    },
    {
      "cell_type": "code",
      "source": [
        "# prediction on Test Data\n",
        "\n",
        "test_data_prediction = regressor.predict(x_test)"
      ],
      "metadata": {
        "id": "ck5mI_cpTOL6"
      },
      "execution_count": null,
      "outputs": []
    },
    {
      "cell_type": "code",
      "source": [
        "#this is the predicted value\n",
        "\n",
        "print(test_data_prediction)"
      ],
      "metadata": {
        "colab": {
          "base_uri": "https://localhost:8080/"
        },
        "id": "6qNZih8FUqqJ",
        "outputId": "87103e57-1517-4f01-9413-39f3970be2d5"
      },
      "execution_count": null,
      "outputs": [
        {
          "output_type": "stream",
          "name": "stdout",
          "text": [
            "[126.6500002 120.687999  141.3359986 119.8740006  93.0719984 148.9000002\n",
            " 117.4100006 112.7959992 141.6020018 115.526001  109.1680006 122.8819994\n",
            "  89.959999  149.1279998 122.7160004 119.7220004  87.7240006  90.4379988\n",
            "  90.3959976 122.087999   87.712001  112.6140002 126.0459976 172.3579986\n",
            " 151.933998  144.7419982 115.1180008 160.7180052 134.1639986 110.5100024\n",
            " 108.4419998 110.258002  125.4540008 120.4299988 107.0759994 122.2059984\n",
            "  84.664     113.0980012 125.4487594 144.528     108.408     143.6320008\n",
            " 108.9039992 146.7459992 132.7759978 148.372     121.9740004 133.3300002\n",
            " 155.6220002 124.564     127.7899992 108.9039992 125.2919984 104.5500002\n",
            " 156.719998  118.4220002 113.5440016  88.5919998 162.3560026 116.9020004\n",
            "  90.1339996 114.7859984  82.5319992 146.2299988 123.25      126.6500002\n",
            " 125.1399996 117.2740006 159.1779998 122.6759996 122.6839996 172.3579986\n",
            " 113.7379988 166.2580046 117.2740006 122.0459992 154.9640014 109.0959974\n",
            " 114.5179992 161.8339966 118.1240006 121.3139982 115.808     120.5339996\n",
            " 113.6619996 165.3899992 114.7619994 114.3440002 122.4959992  89.7279984\n",
            " 113.160002  111.8699996  78.7539992 164.098004  125.9580002 119.8740006\n",
            "  90.3959976 105.0380004 142.3480042  91.8999998 137.5460022 125.494002\n",
            " 120.1360014 113.514      85.1359984 126.808     126.7339996 153.676001\n",
            " 112.128     169.4899994 103.8319992 148.724002  112.672     119.6940002\n",
            "  92.862001  164.7140016 115.9179992 112.204001   90.623999  110.2760012\n",
            " 153.3060028  90.3140014  84.4619996 120.6640002 112.9279998 117.4100006\n",
            " 119.9839996 127.921997  111.5480012 110.2319992 110.9219988 114.3259994\n",
            "  93.6440016 125.5020004 113.4280014 107.8479994  75.980002  126.538002\n",
            "  88.658     114.6940004 108.851999  157.676001  147.3779998 112.204001\n",
            " 164.3979982 128.6239988 124.614003  125.2940018 123.3960008 120.5519992\n",
            " 165.4139984 110.5300004 117.8339996  87.0919982 122.068001  115.4119994\n",
            "  87.1119996 113.695999  109.937999   88.3240004 147.2459992 145.8079986\n",
            " 143.7720002 116.6560012 125.7960006 116.862001   99.95      118.7600008\n",
            " 110.5960008 121.4199998 159.5600004 122.4259992  89.0499998 104.5500002\n",
            " 109.3240006 124.4419996 109.622     105.086     122.4259992 124.4540026\n",
            "  90.7460006 168.0600036 119.9240008 112.5359988 160.2699982 122.1619998\n",
            " 111.45      128.1620042 131.9139998 125.2580034 121.7300002 139.2820038\n",
            " 142.1619996 122.0039992 148.4420014 140.9540008 124.9919996 126.0459976\n",
            " 171.5760012 118.476001  154.525998   91.4960006 132.3600006  94.5399994\n",
            "  92.9979978  89.6819992 111.8079986 113.6619996 160.7480012 158.4799988\n",
            " 149.7400026 112.714     110.6199996 116.8840012 120.1360014  90.1440002\n",
            " 107.3940004 156.8440032 110.143997  115.8020004 119.9419998  84.3679978\n",
            " 122.520003  170.0779998 116.7200012 155.0580016 152.8839994 146.7420012\n",
            " 153.873996  131.5520018 132.4379992 124.6880004 113.5840012 121.9300002\n",
            " 169.773999  143.2880006 126.2939984 160.8259982 132.2459994 110.143997\n",
            " 166.3100008 103.3340012  84.3439986 164.0179994 152.8839994 113.5840012\n",
            " 123.8119996  91.8999998  90.7460006 114.6460006  86.6399994 113.0559996\n",
            " 118.5059998 151.5359986 120.5839984 106.6999998 115.3199998 140.9899978\n",
            " 115.2559982 118.5520004  87.712001  128.164     125.9580002 165.3339996\n",
            " 124.5359986 144.3960022 117.2740006 163.2880004 114.3680008 168.0600036\n",
            " 110.1039992 118.6580014  89.5039992 121.401999  113.6500018 155.2\n",
            " 145.3879976  75.980002  106.6960006 117.4620024 118.0800002 108.7520004\n",
            " 110.918001   91.5419998  89.0520006  86.0539992 153.3060028 126.7339996\n",
            " 119.7240006  93.9939986 112.6699998  88.8300002  75.8240022 122.9320024\n",
            " 110.2239994  90.8020006 110.2800002 110.632001  117.8380006 123.736\n",
            " 155.6519986  84.8619996 128.4299974 118.3319992 153.928003  109.4319994\n",
            " 149.2699982 122.1000002 113.1060016 112.6199996 125.6919998 132.4379992\n",
            " 145.6120026 120.4299988 126.1520004  90.009999  113.514      94.5260008\n",
            "  90.7100006 108.7520004 131.3780028 141.6100036 160.7480012 119.7320006\n",
            " 103.270001  107.0759994 155.3679992 154.1200014 108.7520004 140.929999\n",
            " 123.6360016 125.5240004  86.2319992 153.5600006 122.4959992 156.430002\n",
            " 114.8940004  94.415999  117.9440002 153.3060028 114.3160004 147.1399992\n",
            " 120.6199998 167.8519988 123.3380002 121.492     121.9739988 122.4420014\n",
            "  86.914     148.9640014 113.409999  114.2119998 112.4960024 153.4640016\n",
            "  94.7219998  91.8439988 114.8059996 149.85      118.7859984 156.274002\n",
            " 125.1399996 157.7940002 120.7       148.2899994 124.6880004  75.4220002\n",
            "  91.201999   91.8999998 111.5480012 108.4419998 113.4280014 111.4599994\n",
            " 125.1399996 122.2520006 121.401999  123.1100006 110.3159988 110.1039992\n",
            " 114.5499998 148.626001  124.4680008 153.0340028 125.1580002 146.7420012\n",
            " 135.6000014 113.3440004 110.143997  125.287999  114.4279984 117.8320008\n",
            " 118.5059998 151.6120026  93.8560014 113.4280014 128.1620042 122.2919998\n",
            " 160.9019988 121.8059996 158.3280028 109.9099992 125.1399996  90.6699996\n",
            "  84.3439986 127.3479994 125.7259996 136.8100006 120.6759992 126.1219986\n",
            "  88.3120008 124.6880004 116.3820006 113.6500018 112.5300018 121.4180008\n",
            "  84.9999984 111.0220016 124.9919996 114.4320008 126.0639998  84.3439986\n",
            " 113.1539978 110.0479996 127.175998  131.4360016  85.1359984 123.1700012\n",
            " 103.7339994  97.7420012 111.1840014  91.8999998 118.740001  122.6800002\n",
            " 152.369998  126.0459992  94.7360002 159.854004  111.3759994  95.098001\n",
            " 139.7179994 112.4339998  83.7499984 156.7899994  86.6039992  91.8999998\n",
            " 167.7340024 159.6400026 164.920004  161.9019988 122.6239988 123.9619996\n",
            " 120.076001   89.9760008 118.7360002 120.4299988 125.287999  148.9779998\n",
            " 118.5519988 112.9159988]\n"
          ]
        }
      ]
    },
    {
      "cell_type": "code",
      "source": [
        "#training score\n",
        "\n",
        "regressor.score(x_train,y_train)"
      ],
      "metadata": {
        "colab": {
          "base_uri": "https://localhost:8080/"
        },
        "outputId": "85f2b8b4-edf4-4877-f93b-aac7f493e844",
        "id": "U0I7xOwyX00M"
      },
      "execution_count": null,
      "outputs": [
        {
          "output_type": "execute_result",
          "data": {
            "text/plain": [
              "0.9641939553131597"
            ]
          },
          "metadata": {},
          "execution_count": 284
        }
      ]
    },
    {
      "cell_type": "code",
      "source": [
        "# accuracy\n",
        "\n",
        "error_score = metrics.r2_score(y_test, test_data_prediction)\n",
        "print('accuracy : ', error_score)"
      ],
      "metadata": {
        "colab": {
          "base_uri": "https://localhost:8080/"
        },
        "outputId": "eb0cedd7-27d1-4d51-ac00-75c1f55ccfc5",
        "id": "HkNADRNTX00M"
      },
      "execution_count": null,
      "outputs": [
        {
          "output_type": "stream",
          "name": "stdout",
          "text": [
            "accuracy :  0.9320551557886056\n"
          ]
        }
      ]
    },
    {
      "cell_type": "code",
      "source": [
        "# mean_absolute_error\n",
        "\n",
        "from sklearn.metrics import mean_absolute_error\n",
        "mselr=mean_absolute_error(y_test,test_data_prediction)\n",
        "mselr"
      ],
      "metadata": {
        "colab": {
          "base_uri": "https://localhost:8080/"
        },
        "outputId": "b6729074-0662-44d4-89be-941b6e569fa0",
        "id": "SUG5dAiTX00N"
      },
      "execution_count": null,
      "outputs": [
        {
          "output_type": "execute_result",
          "data": {
            "text/plain": [
              "3.8772955379912655"
            ]
          },
          "metadata": {},
          "execution_count": 286
        }
      ]
    },
    {
      "cell_type": "code",
      "source": [
        "#mean square error\n",
        "\n",
        "from sklearn.metrics import mean_squared_error\n",
        "mse=np.sqrt(mean_squared_error(y_test,test_data_prediction))\n",
        "print('RMSE : ',mse)"
      ],
      "metadata": {
        "colab": {
          "base_uri": "https://localhost:8080/"
        },
        "outputId": "d021d78f-e0ff-4fea-b34c-58ac7a7e433e",
        "id": "qyLv3lIJX00O"
      },
      "execution_count": null,
      "outputs": [
        {
          "output_type": "stream",
          "name": "stdout",
          "text": [
            "RMSE :  5.912206236796647\n"
          ]
        }
      ]
    },
    {
      "cell_type": "code",
      "source": [
        "# Lets visualize the actual and predicted values using Distplot:\n",
        "\n",
        "df1 = pd.DataFrame({'Actual': y_test, 'Predicted': test_data_prediction})\n",
        "df1.reset_index(drop=True)[:5]"
      ],
      "metadata": {
        "colab": {
          "base_uri": "https://localhost:8080/",
          "height": 206
        },
        "outputId": "962affbf-5004-4add-ed90-12ff25c03fde",
        "id": "wF1Z4BVQaGtL"
      },
      "execution_count": null,
      "outputs": [
        {
          "output_type": "execute_result",
          "data": {
            "text/plain": [
              "       Actual   Predicted\n",
              "0  128.789993  126.650000\n",
              "1  115.620003  120.687999\n",
              "2  139.220001  141.335999\n",
              "3  120.930000  119.874001\n",
              "4   93.040001   93.071998"
            ],
            "text/html": [
              "\n",
              "  <div id=\"df-2a194e7d-87b9-4b5e-a870-c9b21a6e3815\">\n",
              "    <div class=\"colab-df-container\">\n",
              "      <div>\n",
              "<style scoped>\n",
              "    .dataframe tbody tr th:only-of-type {\n",
              "        vertical-align: middle;\n",
              "    }\n",
              "\n",
              "    .dataframe tbody tr th {\n",
              "        vertical-align: top;\n",
              "    }\n",
              "\n",
              "    .dataframe thead th {\n",
              "        text-align: right;\n",
              "    }\n",
              "</style>\n",
              "<table border=\"1\" class=\"dataframe\">\n",
              "  <thead>\n",
              "    <tr style=\"text-align: right;\">\n",
              "      <th></th>\n",
              "      <th>Actual</th>\n",
              "      <th>Predicted</th>\n",
              "    </tr>\n",
              "  </thead>\n",
              "  <tbody>\n",
              "    <tr>\n",
              "      <th>0</th>\n",
              "      <td>128.789993</td>\n",
              "      <td>126.650000</td>\n",
              "    </tr>\n",
              "    <tr>\n",
              "      <th>1</th>\n",
              "      <td>115.620003</td>\n",
              "      <td>120.687999</td>\n",
              "    </tr>\n",
              "    <tr>\n",
              "      <th>2</th>\n",
              "      <td>139.220001</td>\n",
              "      <td>141.335999</td>\n",
              "    </tr>\n",
              "    <tr>\n",
              "      <th>3</th>\n",
              "      <td>120.930000</td>\n",
              "      <td>119.874001</td>\n",
              "    </tr>\n",
              "    <tr>\n",
              "      <th>4</th>\n",
              "      <td>93.040001</td>\n",
              "      <td>93.071998</td>\n",
              "    </tr>\n",
              "  </tbody>\n",
              "</table>\n",
              "</div>\n",
              "      <button class=\"colab-df-convert\" onclick=\"convertToInteractive('df-2a194e7d-87b9-4b5e-a870-c9b21a6e3815')\"\n",
              "              title=\"Convert this dataframe to an interactive table.\"\n",
              "              style=\"display:none;\">\n",
              "        \n",
              "  <svg xmlns=\"http://www.w3.org/2000/svg\" height=\"24px\"viewBox=\"0 0 24 24\"\n",
              "       width=\"24px\">\n",
              "    <path d=\"M0 0h24v24H0V0z\" fill=\"none\"/>\n",
              "    <path d=\"M18.56 5.44l.94 2.06.94-2.06 2.06-.94-2.06-.94-.94-2.06-.94 2.06-2.06.94zm-11 1L8.5 8.5l.94-2.06 2.06-.94-2.06-.94L8.5 2.5l-.94 2.06-2.06.94zm10 10l.94 2.06.94-2.06 2.06-.94-2.06-.94-.94-2.06-.94 2.06-2.06.94z\"/><path d=\"M17.41 7.96l-1.37-1.37c-.4-.4-.92-.59-1.43-.59-.52 0-1.04.2-1.43.59L10.3 9.45l-7.72 7.72c-.78.78-.78 2.05 0 2.83L4 21.41c.39.39.9.59 1.41.59.51 0 1.02-.2 1.41-.59l7.78-7.78 2.81-2.81c.8-.78.8-2.07 0-2.86zM5.41 20L4 18.59l7.72-7.72 1.47 1.35L5.41 20z\"/>\n",
              "  </svg>\n",
              "      </button>\n",
              "      \n",
              "  <style>\n",
              "    .colab-df-container {\n",
              "      display:flex;\n",
              "      flex-wrap:wrap;\n",
              "      gap: 12px;\n",
              "    }\n",
              "\n",
              "    .colab-df-convert {\n",
              "      background-color: #E8F0FE;\n",
              "      border: none;\n",
              "      border-radius: 50%;\n",
              "      cursor: pointer;\n",
              "      display: none;\n",
              "      fill: #1967D2;\n",
              "      height: 32px;\n",
              "      padding: 0 0 0 0;\n",
              "      width: 32px;\n",
              "    }\n",
              "\n",
              "    .colab-df-convert:hover {\n",
              "      background-color: #E2EBFA;\n",
              "      box-shadow: 0px 1px 2px rgba(60, 64, 67, 0.3), 0px 1px 3px 1px rgba(60, 64, 67, 0.15);\n",
              "      fill: #174EA6;\n",
              "    }\n",
              "\n",
              "    [theme=dark] .colab-df-convert {\n",
              "      background-color: #3B4455;\n",
              "      fill: #D2E3FC;\n",
              "    }\n",
              "\n",
              "    [theme=dark] .colab-df-convert:hover {\n",
              "      background-color: #434B5C;\n",
              "      box-shadow: 0px 1px 3px 1px rgba(0, 0, 0, 0.15);\n",
              "      filter: drop-shadow(0px 1px 2px rgba(0, 0, 0, 0.3));\n",
              "      fill: #FFFFFF;\n",
              "    }\n",
              "  </style>\n",
              "\n",
              "      <script>\n",
              "        const buttonEl =\n",
              "          document.querySelector('#df-2a194e7d-87b9-4b5e-a870-c9b21a6e3815 button.colab-df-convert');\n",
              "        buttonEl.style.display =\n",
              "          google.colab.kernel.accessAllowed ? 'block' : 'none';\n",
              "\n",
              "        async function convertToInteractive(key) {\n",
              "          const element = document.querySelector('#df-2a194e7d-87b9-4b5e-a870-c9b21a6e3815');\n",
              "          const dataTable =\n",
              "            await google.colab.kernel.invokeFunction('convertToInteractive',\n",
              "                                                     [key], {});\n",
              "          if (!dataTable) return;\n",
              "\n",
              "          const docLinkHtml = 'Like what you see? Visit the ' +\n",
              "            '<a target=\"_blank\" href=https://colab.research.google.com/notebooks/data_table.ipynb>data table notebook</a>'\n",
              "            + ' to learn more about interactive tables.';\n",
              "          element.innerHTML = '';\n",
              "          dataTable['output_type'] = 'display_data';\n",
              "          await google.colab.output.renderOutput(dataTable, element);\n",
              "          const docLink = document.createElement('div');\n",
              "          docLink.innerHTML = docLinkHtml;\n",
              "          element.appendChild(docLink);\n",
              "        }\n",
              "      </script>\n",
              "    </div>\n",
              "  </div>\n",
              "  "
            ]
          },
          "metadata": {},
          "execution_count": 288
        }
      ]
    },
    {
      "cell_type": "code",
      "source": [
        "fig,ax=plt.subplots(figsize=(8,5));\n",
        "ax1 = sns.distplot(df1['Actual'], hist=False, color=\"red\", label=\"Actual Value\");\n",
        "ax2=sns.distplot(df1['Predicted'], hist=False, color=\"blue\", label=\"Predicted Values\");\n",
        "ax.legend();"
      ],
      "metadata": {
        "outputId": "bb032be1-54d8-49ff-ad79-eed8436e6fc4",
        "colab": {
          "base_uri": "https://localhost:8080/",
          "height": 465
        },
        "id": "R1v00omYaGtM"
      },
      "execution_count": null,
      "outputs": [
        {
          "output_type": "display_data",
          "data": {
            "text/plain": [
              "<Figure size 800x500 with 1 Axes>"
            ],
            "image/png": "[encoded data removed]"
          },
          "metadata": {}
        }
      ]
    },
    {
      "cell_type": "markdown",
      "source": [
        "#***SVM model***\n",
        "\n",
        "* (SVM) is a type of deep learning algorithm that performs supervised learning for classification or regression of data groups"
      ],
      "metadata": {
        "id": "9TTplBDKT7Yh"
      }
    },
    {
      "cell_type": "code",
      "source": [
        "from sklearn.svm import SVR\n",
        "\n",
        "sv_model = SVR()\n",
        "\n",
        "#model fitting\n",
        "\n",
        "sv_model.fit(x_train,y_train)\n",
        "\n",
        "#predicting model\n",
        "\n",
        "y_pred = sv_model.predict(x_test)\n",
        "\n"
      ],
      "metadata": {
        "id": "_JhswPS_uq95"
      },
      "execution_count": null,
      "outputs": []
    },
    {
      "cell_type": "code",
      "source": [
        "training_score = sv_model.score(x_train,y_train)\n",
        "training_score"
      ],
      "metadata": {
        "colab": {
          "base_uri": "https://localhost:8080/"
        },
        "id": "aRXeOfYIvG8B",
        "outputId": "6c5b2b05-ef8d-404a-b667-267a842acc12"
      },
      "execution_count": null,
      "outputs": [
        {
          "output_type": "execute_result",
          "data": {
            "text/plain": [
              "0.11309668570581066"
            ]
          },
          "metadata": {},
          "execution_count": 291
        }
      ]
    },
    {
      "cell_type": "code",
      "source": [
        "testing_score = sv_model.score(x_test,y_test)\n",
        "testing_score"
      ],
      "metadata": {
        "colab": {
          "base_uri": "https://localhost:8080/"
        },
        "id": "PS72RIKavO-V",
        "outputId": "9cf03057-1fbe-4345-c740-e23b32f0c4c1"
      },
      "execution_count": null,
      "outputs": [
        {
          "output_type": "execute_result",
          "data": {
            "text/plain": [
              "0.12792925976006897"
            ]
          },
          "metadata": {},
          "execution_count": 292
        }
      ]
    },
    {
      "cell_type": "code",
      "source": [
        "print(\"train_accuracy:\",sv_model.score(x_train,y_train))\n",
        "print(\"test_accuracy: \", sv_model.score(x_test,y_test))"
      ],
      "metadata": {
        "colab": {
          "base_uri": "https://localhost:8080/"
        },
        "id": "9f2dLNb2W8H8",
        "outputId": "5de54ec1-ca0a-4901-a5b1-fa2be9b29fd5"
      },
      "execution_count": null,
      "outputs": [
        {
          "output_type": "stream",
          "name": "stdout",
          "text": [
            "train_accuracy: 0.11309668570581066\n",
            "test_accuracy:  0.12792925976006897\n"
          ]
        }
      ]
    },
    {
      "cell_type": "code",
      "source": [
        "# accuracy\n",
        "\n",
        "error_score = metrics.r2_score(y_test, y_pred)\n",
        "print('accuracy : ', error_score)"
      ],
      "metadata": {
        "colab": {
          "base_uri": "https://localhost:8080/"
        },
        "outputId": "d00a9cd9-bb03-46b2-8cf5-d562e4fa35c6",
        "id": "6n8BsdI-YEf2"
      },
      "execution_count": null,
      "outputs": [
        {
          "output_type": "stream",
          "name": "stdout",
          "text": [
            "accuracy :  0.12792925976006897\n"
          ]
        }
      ]
    },
    {
      "cell_type": "code",
      "source": [
        "# mean_absolute_error\n",
        "\n",
        "from sklearn.metrics import mean_absolute_error\n",
        "mselr=mean_absolute_error(y_test,y_pred)\n",
        "mselr"
      ],
      "metadata": {
        "colab": {
          "base_uri": "https://localhost:8080/"
        },
        "outputId": "74658422-c460-45f7-c142-bd4bea7c140a",
        "id": "hvPg0hf6YEf2"
      },
      "execution_count": null,
      "outputs": [
        {
          "output_type": "execute_result",
          "data": {
            "text/plain": [
              "15.769578795927698"
            ]
          },
          "metadata": {},
          "execution_count": 295
        }
      ]
    },
    {
      "cell_type": "code",
      "source": [
        "#mean square error\n",
        "\n",
        "from sklearn.metrics import mean_squared_error\n",
        "mse=np.sqrt(mean_squared_error(y_test,y_pred))\n",
        "print('RMSE : ',mse)"
      ],
      "metadata": {
        "colab": {
          "base_uri": "https://localhost:8080/"
        },
        "outputId": "269bba27-3473-433e-e95f-49800008e766",
        "id": "IViSLCXYYEf2"
      },
      "execution_count": null,
      "outputs": [
        {
          "output_type": "stream",
          "name": "stdout",
          "text": [
            "RMSE :  21.181035069066148\n"
          ]
        }
      ]
    },
    {
      "cell_type": "code",
      "source": [
        "# Lets visualize the actual and predicted values using Distplot:\n",
        "\n",
        "df1 = pd.DataFrame({'Actual': y_test, 'Predicted': y_pred})\n",
        "df1.reset_index(drop=True)[:5]"
      ],
      "metadata": {
        "colab": {
          "base_uri": "https://localhost:8080/",
          "height": 206
        },
        "id": "WNPvrfZdZ3fL",
        "outputId": "debfbefb-236e-409c-a5e3-ee86dd18b2e2"
      },
      "execution_count": null,
      "outputs": [
        {
          "output_type": "execute_result",
          "data": {
            "text/plain": [
              "       Actual   Predicted\n",
              "0  128.789993  123.757484\n",
              "1  115.620003  119.410114\n",
              "2  139.220001  121.370536\n",
              "3  120.930000  123.237255\n",
              "4   93.040001  120.936980"
            ],
            "text/html": [
              "\n",
              "  <div id=\"df-d1d63281-d668-4ac2-8c1e-be92f8d14173\">\n",
              "    <div class=\"colab-df-container\">\n",
              "      <div>\n",
              "<style scoped>\n",
              "    .dataframe tbody tr th:only-of-type {\n",
              "        vertical-align: middle;\n",
              "    }\n",
              "\n",
              "    .dataframe tbody tr th {\n",
              "        vertical-align: top;\n",
              "    }\n",
              "\n",
              "    .dataframe thead th {\n",
              "        text-align: right;\n",
              "    }\n",
              "</style>\n",
              "<table border=\"1\" class=\"dataframe\">\n",
              "  <thead>\n",
              "    <tr style=\"text-align: right;\">\n",
              "      <th></th>\n",
              "      <th>Actual</th>\n",
              "      <th>Predicted</th>\n",
              "    </tr>\n",
              "  </thead>\n",
              "  <tbody>\n",
              "    <tr>\n",
              "      <th>0</th>\n",
              "      <td>128.789993</td>\n",
              "      <td>123.757484</td>\n",
              "    </tr>\n",
              "    <tr>\n",
              "      <th>1</th>\n",
              "      <td>115.620003</td>\n",
              "      <td>119.410114</td>\n",
              "    </tr>\n",
              "    <tr>\n",
              "      <th>2</th>\n",
              "      <td>139.220001</td>\n",
              "      <td>121.370536</td>\n",
              "    </tr>\n",
              "    <tr>\n",
              "      <th>3</th>\n",
              "      <td>120.930000</td>\n",
              "      <td>123.237255</td>\n",
              "    </tr>\n",
              "    <tr>\n",
              "      <th>4</th>\n",
              "      <td>93.040001</td>\n",
              "      <td>120.936980</td>\n",
              "    </tr>\n",
              "  </tbody>\n",
              "</table>\n",
              "</div>\n",
              "      <button class=\"colab-df-convert\" onclick=\"convertToInteractive('df-d1d63281-d668-4ac2-8c1e-be92f8d14173')\"\n",
              "              title=\"Convert this dataframe to an interactive table.\"\n",
              "              style=\"display:none;\">\n",
              "        \n",
              "  <svg xmlns=\"http://www.w3.org/2000/svg\" height=\"24px\"viewBox=\"0 0 24 24\"\n",
              "       width=\"24px\">\n",
              "    <path d=\"M0 0h24v24H0V0z\" fill=\"none\"/>\n",
              "    <path d=\"M18.56 5.44l.94 2.06.94-2.06 2.06-.94-2.06-.94-.94-2.06-.94 2.06-2.06.94zm-11 1L8.5 8.5l.94-2.06 2.06-.94-2.06-.94L8.5 2.5l-.94 2.06-2.06.94zm10 10l.94 2.06.94-2.06 2.06-.94-2.06-.94-.94-2.06-.94 2.06-2.06.94z\"/><path d=\"M17.41 7.96l-1.37-1.37c-.4-.4-.92-.59-1.43-.59-.52 0-1.04.2-1.43.59L10.3 9.45l-7.72 7.72c-.78.78-.78 2.05 0 2.83L4 21.41c.39.39.9.59 1.41.59.51 0 1.02-.2 1.41-.59l7.78-7.78 2.81-2.81c.8-.78.8-2.07 0-2.86zM5.41 20L4 18.59l7.72-7.72 1.47 1.35L5.41 20z\"/>\n",
              "  </svg>\n",
              "      </button>\n",
              "      \n",
              "  <style>\n",
              "    .colab-df-container {\n",
              "      display:flex;\n",
              "      flex-wrap:wrap;\n",
              "      gap: 12px;\n",
              "    }\n",
              "\n",
              "    .colab-df-convert {\n",
              "      background-color: #E8F0FE;\n",
              "      border: none;\n",
              "      border-radius: 50%;\n",
              "      cursor: pointer;\n",
              "      display: none;\n",
              "      fill: #1967D2;\n",
              "      height: 32px;\n",
              "      padding: 0 0 0 0;\n",
              "      width: 32px;\n",
              "    }\n",
              "\n",
              "    .colab-df-convert:hover {\n",
              "      background-color: #E2EBFA;\n",
              "      box-shadow: 0px 1px 2px rgba(60, 64, 67, 0.3), 0px 1px 3px 1px rgba(60, 64, 67, 0.15);\n",
              "      fill: #174EA6;\n",
              "    }\n",
              "\n",
              "    [theme=dark] .colab-df-convert {\n",
              "      background-color: #3B4455;\n",
              "      fill: #D2E3FC;\n",
              "    }\n",
              "\n",
              "    [theme=dark] .colab-df-convert:hover {\n",
              "      background-color: #434B5C;\n",
              "      box-shadow: 0px 1px 3px 1px rgba(0, 0, 0, 0.15);\n",
              "      filter: drop-shadow(0px 1px 2px rgba(0, 0, 0, 0.3));\n",
              "      fill: #FFFFFF;\n",
              "    }\n",
              "  </style>\n",
              "\n",
              "      <script>\n",
              "        const buttonEl =\n",
              "          document.querySelector('#df-d1d63281-d668-4ac2-8c1e-be92f8d14173 button.colab-df-convert');\n",
              "        buttonEl.style.display =\n",
              "          google.colab.kernel.accessAllowed ? 'block' : 'none';\n",
              "\n",
              "        async function convertToInteractive(key) {\n",
              "          const element = document.querySelector('#df-d1d63281-d668-4ac2-8c1e-be92f8d14173');\n",
              "          const dataTable =\n",
              "            await google.colab.kernel.invokeFunction('convertToInteractive',\n",
              "                                                     [key], {});\n",
              "          if (!dataTable) return;\n",
              "\n",
              "          const docLinkHtml = 'Like what you see? Visit the ' +\n",
              "            '<a target=\"_blank\" href=https://colab.research.google.com/notebooks/data_table.ipynb>data table notebook</a>'\n",
              "            + ' to learn more about interactive tables.';\n",
              "          element.innerHTML = '';\n",
              "          dataTable['output_type'] = 'display_data';\n",
              "          await google.colab.output.renderOutput(dataTable, element);\n",
              "          const docLink = document.createElement('div');\n",
              "          docLink.innerHTML = docLinkHtml;\n",
              "          element.appendChild(docLink);\n",
              "        }\n",
              "      </script>\n",
              "    </div>\n",
              "  </div>\n",
              "  "
            ]
          },
          "metadata": {},
          "execution_count": 297
        }
      ]
    },
    {
      "cell_type": "code",
      "source": [
        "fig,ax=plt.subplots(figsize=(8,5));\n",
        "ax1 = sns.distplot(df1['Actual'], hist=False, color=\"red\", label=\"Actual Value\");\n",
        "ax2=sns.distplot(df1['Predicted'], hist=False, color=\"blue\", label=\"Predicted Values\");\n",
        "ax.legend();"
      ],
      "metadata": {
        "colab": {
          "base_uri": "https://localhost:8080/",
          "height": 465
        },
        "id": "34hXguGXZ9uP",
        "outputId": "89f72dfe-19f1-4437-8b78-f33c0d22c922"
      },
      "execution_count": null,
      "outputs": [
        {
          "output_type": "display_data",
          "data": {
            "text/plain": [
              "<Figure size 800x500 with 1 Axes>"
            ],
            "image/png": "[encoded data removed]"
          },
          "metadata": {}
        }
      ]
    },
    {
      "cell_type": "markdown",
      "source": [
        "**The Best Model is Random Forest**\n",
        "\n",
        "- training Score : 0.9983527056802998\n",
        "- R2 score : 0.9886902751444948\n",
        "- Mean Absolute Error : 1.346029744017467\n",
        "- Root Mean Square Error : 2.4423842591240024"
      ],
      "metadata": {
        "id": "BTk5RvD2YY2c"
      }
    }
  ]
}